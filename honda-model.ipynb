{
 "cells": [
  {
   "cell_type": "code",
   "execution_count": 595,
   "metadata": {
    "_cell_guid": "b1076dfc-b9ad-4769-8c92-a6c4dae69d19",
    "_uuid": "8f2839f25d086af736a60e9eeb907d3b93b6e0e5",
    "execution": {
     "iopub.execute_input": "2022-03-31T20:11:45.716556Z",
     "iopub.status.busy": "2022-03-31T20:11:45.715545Z",
     "iopub.status.idle": "2022-03-31T20:11:45.728553Z",
     "shell.execute_reply": "2022-03-31T20:11:45.727486Z",
     "shell.execute_reply.started": "2022-03-31T20:11:45.716457Z"
    }
   },
   "outputs": [],
   "source": [
    "# This Python 3 environment comes with many helpful analytics libraries installed\n",
    "# It is defined by the kaggle/python Docker image: https://github.com/kaggle/docker-python\n",
    "# For example, here's several helpful packages to load\n",
    "\n",
    "import numpy as np # linear algebra\n",
    "import pandas as pd # data processing, CSV file I/O (e.g. pd.read_csv)\n",
    "\n",
    "# Input data files are available in the read-only \"../input/\" directory\n",
    "# For example, running this (by clicking run or pressing Shift+Enter) will list all files under the input directory\n",
    "\n",
    "import os\n",
    "for dirname, _, filenames in os.walk('/kaggle/input'):\n",
    "    for filename in filenames:\n",
    "        print(os.path.join(dirname, filename))\n",
    "\n",
    "# You can write up to 20GB to the current directory (/kaggle/working/) that gets preserved as output when you create a version using \"Save & Run All\" \n",
    "# You can also write temporary files to /kaggle/temp/, but they won't be saved outside of the current session"
   ]
  },
  {
   "cell_type": "code",
   "execution_count": 596,
   "metadata": {
    "execution": {
     "iopub.execute_input": "2022-03-31T20:11:46.875559Z",
     "iopub.status.busy": "2022-03-31T20:11:46.874983Z",
     "iopub.status.idle": "2022-03-31T20:11:46.927533Z",
     "shell.execute_reply": "2022-03-31T20:11:46.926327Z",
     "shell.execute_reply.started": "2022-03-31T20:11:46.875523Z"
    }
   },
   "outputs": [],
   "source": [
    "X_full = pd.read_csv('train.csv', index_col='Id')\n",
    "X_test_full = pd.read_csv('test.csv', index_col='Id')"
   ]
  },
  {
   "cell_type": "code",
   "execution_count": 597,
   "metadata": {
    "execution": {
     "iopub.execute_input": "2022-03-31T20:11:48.009662Z",
     "iopub.status.busy": "2022-03-31T20:11:48.009321Z",
     "iopub.status.idle": "2022-03-31T20:11:48.039137Z",
     "shell.execute_reply": "2022-03-31T20:11:48.038113Z",
     "shell.execute_reply.started": "2022-03-31T20:11:48.009631Z"
    }
   },
   "outputs": [
    {
     "data": {
      "text/html": [
       "<div>\n",
       "<style scoped>\n",
       "    .dataframe tbody tr th:only-of-type {\n",
       "        vertical-align: middle;\n",
       "    }\n",
       "\n",
       "    .dataframe tbody tr th {\n",
       "        vertical-align: top;\n",
       "    }\n",
       "\n",
       "    .dataframe thead th {\n",
       "        text-align: right;\n",
       "    }\n",
       "</style>\n",
       "<table border=\"1\" class=\"dataframe\">\n",
       "  <thead>\n",
       "    <tr style=\"text-align: right;\">\n",
       "      <th></th>\n",
       "      <th>MSSubClass</th>\n",
       "      <th>MSZoning</th>\n",
       "      <th>LotFrontage</th>\n",
       "      <th>LotArea</th>\n",
       "      <th>Street</th>\n",
       "      <th>Alley</th>\n",
       "      <th>LotShape</th>\n",
       "      <th>LandContour</th>\n",
       "      <th>Utilities</th>\n",
       "      <th>LotConfig</th>\n",
       "      <th>...</th>\n",
       "      <th>PoolArea</th>\n",
       "      <th>PoolQC</th>\n",
       "      <th>Fence</th>\n",
       "      <th>MiscFeature</th>\n",
       "      <th>MiscVal</th>\n",
       "      <th>MoSold</th>\n",
       "      <th>YrSold</th>\n",
       "      <th>SaleType</th>\n",
       "      <th>SaleCondition</th>\n",
       "      <th>SalePrice</th>\n",
       "    </tr>\n",
       "    <tr>\n",
       "      <th>Id</th>\n",
       "      <th></th>\n",
       "      <th></th>\n",
       "      <th></th>\n",
       "      <th></th>\n",
       "      <th></th>\n",
       "      <th></th>\n",
       "      <th></th>\n",
       "      <th></th>\n",
       "      <th></th>\n",
       "      <th></th>\n",
       "      <th></th>\n",
       "      <th></th>\n",
       "      <th></th>\n",
       "      <th></th>\n",
       "      <th></th>\n",
       "      <th></th>\n",
       "      <th></th>\n",
       "      <th></th>\n",
       "      <th></th>\n",
       "      <th></th>\n",
       "      <th></th>\n",
       "    </tr>\n",
       "  </thead>\n",
       "  <tbody>\n",
       "    <tr>\n",
       "      <th>1</th>\n",
       "      <td>60</td>\n",
       "      <td>RL</td>\n",
       "      <td>65.0</td>\n",
       "      <td>8450</td>\n",
       "      <td>Pave</td>\n",
       "      <td>NaN</td>\n",
       "      <td>Reg</td>\n",
       "      <td>Lvl</td>\n",
       "      <td>AllPub</td>\n",
       "      <td>Inside</td>\n",
       "      <td>...</td>\n",
       "      <td>0</td>\n",
       "      <td>NaN</td>\n",
       "      <td>NaN</td>\n",
       "      <td>NaN</td>\n",
       "      <td>0</td>\n",
       "      <td>2</td>\n",
       "      <td>2008</td>\n",
       "      <td>WD</td>\n",
       "      <td>Normal</td>\n",
       "      <td>208500</td>\n",
       "    </tr>\n",
       "    <tr>\n",
       "      <th>2</th>\n",
       "      <td>20</td>\n",
       "      <td>RL</td>\n",
       "      <td>80.0</td>\n",
       "      <td>9600</td>\n",
       "      <td>Pave</td>\n",
       "      <td>NaN</td>\n",
       "      <td>Reg</td>\n",
       "      <td>Lvl</td>\n",
       "      <td>AllPub</td>\n",
       "      <td>FR2</td>\n",
       "      <td>...</td>\n",
       "      <td>0</td>\n",
       "      <td>NaN</td>\n",
       "      <td>NaN</td>\n",
       "      <td>NaN</td>\n",
       "      <td>0</td>\n",
       "      <td>5</td>\n",
       "      <td>2007</td>\n",
       "      <td>WD</td>\n",
       "      <td>Normal</td>\n",
       "      <td>181500</td>\n",
       "    </tr>\n",
       "    <tr>\n",
       "      <th>3</th>\n",
       "      <td>60</td>\n",
       "      <td>RL</td>\n",
       "      <td>68.0</td>\n",
       "      <td>11250</td>\n",
       "      <td>Pave</td>\n",
       "      <td>NaN</td>\n",
       "      <td>IR1</td>\n",
       "      <td>Lvl</td>\n",
       "      <td>AllPub</td>\n",
       "      <td>Inside</td>\n",
       "      <td>...</td>\n",
       "      <td>0</td>\n",
       "      <td>NaN</td>\n",
       "      <td>NaN</td>\n",
       "      <td>NaN</td>\n",
       "      <td>0</td>\n",
       "      <td>9</td>\n",
       "      <td>2008</td>\n",
       "      <td>WD</td>\n",
       "      <td>Normal</td>\n",
       "      <td>223500</td>\n",
       "    </tr>\n",
       "    <tr>\n",
       "      <th>4</th>\n",
       "      <td>70</td>\n",
       "      <td>RL</td>\n",
       "      <td>60.0</td>\n",
       "      <td>9550</td>\n",
       "      <td>Pave</td>\n",
       "      <td>NaN</td>\n",
       "      <td>IR1</td>\n",
       "      <td>Lvl</td>\n",
       "      <td>AllPub</td>\n",
       "      <td>Corner</td>\n",
       "      <td>...</td>\n",
       "      <td>0</td>\n",
       "      <td>NaN</td>\n",
       "      <td>NaN</td>\n",
       "      <td>NaN</td>\n",
       "      <td>0</td>\n",
       "      <td>2</td>\n",
       "      <td>2006</td>\n",
       "      <td>WD</td>\n",
       "      <td>Abnorml</td>\n",
       "      <td>140000</td>\n",
       "    </tr>\n",
       "    <tr>\n",
       "      <th>5</th>\n",
       "      <td>60</td>\n",
       "      <td>RL</td>\n",
       "      <td>84.0</td>\n",
       "      <td>14260</td>\n",
       "      <td>Pave</td>\n",
       "      <td>NaN</td>\n",
       "      <td>IR1</td>\n",
       "      <td>Lvl</td>\n",
       "      <td>AllPub</td>\n",
       "      <td>FR2</td>\n",
       "      <td>...</td>\n",
       "      <td>0</td>\n",
       "      <td>NaN</td>\n",
       "      <td>NaN</td>\n",
       "      <td>NaN</td>\n",
       "      <td>0</td>\n",
       "      <td>12</td>\n",
       "      <td>2008</td>\n",
       "      <td>WD</td>\n",
       "      <td>Normal</td>\n",
       "      <td>250000</td>\n",
       "    </tr>\n",
       "  </tbody>\n",
       "</table>\n",
       "<p>5 rows × 80 columns</p>\n",
       "</div>"
      ],
      "text/plain": [
       "    MSSubClass MSZoning  LotFrontage  LotArea Street Alley LotShape  \\\n",
       "Id                                                                    \n",
       "1           60       RL         65.0     8450   Pave   NaN      Reg   \n",
       "2           20       RL         80.0     9600   Pave   NaN      Reg   \n",
       "3           60       RL         68.0    11250   Pave   NaN      IR1   \n",
       "4           70       RL         60.0     9550   Pave   NaN      IR1   \n",
       "5           60       RL         84.0    14260   Pave   NaN      IR1   \n",
       "\n",
       "   LandContour Utilities LotConfig  ... PoolArea PoolQC Fence MiscFeature  \\\n",
       "Id                                  ...                                     \n",
       "1          Lvl    AllPub    Inside  ...        0    NaN   NaN         NaN   \n",
       "2          Lvl    AllPub       FR2  ...        0    NaN   NaN         NaN   \n",
       "3          Lvl    AllPub    Inside  ...        0    NaN   NaN         NaN   \n",
       "4          Lvl    AllPub    Corner  ...        0    NaN   NaN         NaN   \n",
       "5          Lvl    AllPub       FR2  ...        0    NaN   NaN         NaN   \n",
       "\n",
       "   MiscVal MoSold  YrSold  SaleType  SaleCondition  SalePrice  \n",
       "Id                                                             \n",
       "1        0      2    2008        WD         Normal     208500  \n",
       "2        0      5    2007        WD         Normal     181500  \n",
       "3        0      9    2008        WD         Normal     223500  \n",
       "4        0      2    2006        WD        Abnorml     140000  \n",
       "5        0     12    2008        WD         Normal     250000  \n",
       "\n",
       "[5 rows x 80 columns]"
      ]
     },
     "execution_count": 597,
     "metadata": {},
     "output_type": "execute_result"
    }
   ],
   "source": [
    "X_full.head()\n"
   ]
  },
  {
   "cell_type": "code",
   "execution_count": 598,
   "metadata": {
    "execution": {
     "iopub.execute_input": "2022-03-31T20:11:49.062242Z",
     "iopub.status.busy": "2022-03-31T20:11:49.061954Z",
     "iopub.status.idle": "2022-03-31T20:11:49.089012Z",
     "shell.execute_reply": "2022-03-31T20:11:49.087892Z",
     "shell.execute_reply.started": "2022-03-31T20:11:49.062213Z"
    }
   },
   "outputs": [
    {
     "name": "stdout",
     "output_type": "stream",
     "text": [
      "<class 'pandas.core.frame.DataFrame'>\n",
      "Int64Index: 1460 entries, 1 to 1460\n",
      "Data columns (total 80 columns):\n",
      " #   Column         Non-Null Count  Dtype  \n",
      "---  ------         --------------  -----  \n",
      " 0   MSSubClass     1460 non-null   int64  \n",
      " 1   MSZoning       1460 non-null   object \n",
      " 2   LotFrontage    1201 non-null   float64\n",
      " 3   LotArea        1460 non-null   int64  \n",
      " 4   Street         1460 non-null   object \n",
      " 5   Alley          91 non-null     object \n",
      " 6   LotShape       1460 non-null   object \n",
      " 7   LandContour    1460 non-null   object \n",
      " 8   Utilities      1460 non-null   object \n",
      " 9   LotConfig      1460 non-null   object \n",
      " 10  LandSlope      1460 non-null   object \n",
      " 11  Neighborhood   1460 non-null   object \n",
      " 12  Condition1     1460 non-null   object \n",
      " 13  Condition2     1460 non-null   object \n",
      " 14  BldgType       1460 non-null   object \n",
      " 15  HouseStyle     1460 non-null   object \n",
      " 16  OverallQual    1460 non-null   int64  \n",
      " 17  OverallCond    1460 non-null   int64  \n",
      " 18  YearBuilt      1460 non-null   int64  \n",
      " 19  YearRemodAdd   1460 non-null   int64  \n",
      " 20  RoofStyle      1460 non-null   object \n",
      " 21  RoofMatl       1460 non-null   object \n",
      " 22  Exterior1st    1460 non-null   object \n",
      " 23  Exterior2nd    1460 non-null   object \n",
      " 24  MasVnrType     1452 non-null   object \n",
      " 25  MasVnrArea     1452 non-null   float64\n",
      " 26  ExterQual      1460 non-null   object \n",
      " 27  ExterCond      1460 non-null   object \n",
      " 28  Foundation     1460 non-null   object \n",
      " 29  BsmtQual       1423 non-null   object \n",
      " 30  BsmtCond       1423 non-null   object \n",
      " 31  BsmtExposure   1422 non-null   object \n",
      " 32  BsmtFinType1   1423 non-null   object \n",
      " 33  BsmtFinSF1     1460 non-null   int64  \n",
      " 34  BsmtFinType2   1422 non-null   object \n",
      " 35  BsmtFinSF2     1460 non-null   int64  \n",
      " 36  BsmtUnfSF      1460 non-null   int64  \n",
      " 37  TotalBsmtSF    1460 non-null   int64  \n",
      " 38  Heating        1460 non-null   object \n",
      " 39  HeatingQC      1460 non-null   object \n",
      " 40  CentralAir     1460 non-null   object \n",
      " 41  Electrical     1459 non-null   object \n",
      " 42  1stFlrSF       1460 non-null   int64  \n",
      " 43  2ndFlrSF       1460 non-null   int64  \n",
      " 44  LowQualFinSF   1460 non-null   int64  \n",
      " 45  GrLivArea      1460 non-null   int64  \n",
      " 46  BsmtFullBath   1460 non-null   int64  \n",
      " 47  BsmtHalfBath   1460 non-null   int64  \n",
      " 48  FullBath       1460 non-null   int64  \n",
      " 49  HalfBath       1460 non-null   int64  \n",
      " 50  BedroomAbvGr   1460 non-null   int64  \n",
      " 51  KitchenAbvGr   1460 non-null   int64  \n",
      " 52  KitchenQual    1460 non-null   object \n",
      " 53  TotRmsAbvGrd   1460 non-null   int64  \n",
      " 54  Functional     1460 non-null   object \n",
      " 55  Fireplaces     1460 non-null   int64  \n",
      " 56  FireplaceQu    770 non-null    object \n",
      " 57  GarageType     1379 non-null   object \n",
      " 58  GarageYrBlt    1379 non-null   float64\n",
      " 59  GarageFinish   1379 non-null   object \n",
      " 60  GarageCars     1460 non-null   int64  \n",
      " 61  GarageArea     1460 non-null   int64  \n",
      " 62  GarageQual     1379 non-null   object \n",
      " 63  GarageCond     1379 non-null   object \n",
      " 64  PavedDrive     1460 non-null   object \n",
      " 65  WoodDeckSF     1460 non-null   int64  \n",
      " 66  OpenPorchSF    1460 non-null   int64  \n",
      " 67  EnclosedPorch  1460 non-null   int64  \n",
      " 68  3SsnPorch      1460 non-null   int64  \n",
      " 69  ScreenPorch    1460 non-null   int64  \n",
      " 70  PoolArea       1460 non-null   int64  \n",
      " 71  PoolQC         7 non-null      object \n",
      " 72  Fence          281 non-null    object \n",
      " 73  MiscFeature    54 non-null     object \n",
      " 74  MiscVal        1460 non-null   int64  \n",
      " 75  MoSold         1460 non-null   int64  \n",
      " 76  YrSold         1460 non-null   int64  \n",
      " 77  SaleType       1460 non-null   object \n",
      " 78  SaleCondition  1460 non-null   object \n",
      " 79  SalePrice      1460 non-null   int64  \n",
      "dtypes: float64(3), int64(34), object(43)\n",
      "memory usage: 923.9+ KB\n"
     ]
    }
   ],
   "source": [
    "X_full.info()"
   ]
  },
  {
   "cell_type": "code",
   "execution_count": 599,
   "metadata": {
    "execution": {
     "iopub.execute_input": "2022-03-31T20:11:50.291027Z",
     "iopub.status.busy": "2022-03-31T20:11:50.290714Z",
     "iopub.status.idle": "2022-03-31T20:11:50.391603Z",
     "shell.execute_reply": "2022-03-31T20:11:50.390671Z",
     "shell.execute_reply.started": "2022-03-31T20:11:50.290997Z"
    }
   },
   "outputs": [
    {
     "data": {
      "text/html": [
       "<div>\n",
       "<style scoped>\n",
       "    .dataframe tbody tr th:only-of-type {\n",
       "        vertical-align: middle;\n",
       "    }\n",
       "\n",
       "    .dataframe tbody tr th {\n",
       "        vertical-align: top;\n",
       "    }\n",
       "\n",
       "    .dataframe thead th {\n",
       "        text-align: right;\n",
       "    }\n",
       "</style>\n",
       "<table border=\"1\" class=\"dataframe\">\n",
       "  <thead>\n",
       "    <tr style=\"text-align: right;\">\n",
       "      <th></th>\n",
       "      <th>MSSubClass</th>\n",
       "      <th>LotFrontage</th>\n",
       "      <th>LotArea</th>\n",
       "      <th>OverallQual</th>\n",
       "      <th>OverallCond</th>\n",
       "      <th>YearBuilt</th>\n",
       "      <th>YearRemodAdd</th>\n",
       "      <th>MasVnrArea</th>\n",
       "      <th>BsmtFinSF1</th>\n",
       "      <th>BsmtFinSF2</th>\n",
       "      <th>...</th>\n",
       "      <th>WoodDeckSF</th>\n",
       "      <th>OpenPorchSF</th>\n",
       "      <th>EnclosedPorch</th>\n",
       "      <th>3SsnPorch</th>\n",
       "      <th>ScreenPorch</th>\n",
       "      <th>PoolArea</th>\n",
       "      <th>MiscVal</th>\n",
       "      <th>MoSold</th>\n",
       "      <th>YrSold</th>\n",
       "      <th>SalePrice</th>\n",
       "    </tr>\n",
       "  </thead>\n",
       "  <tbody>\n",
       "    <tr>\n",
       "      <th>count</th>\n",
       "      <td>1460.000000</td>\n",
       "      <td>1201.000000</td>\n",
       "      <td>1460.000000</td>\n",
       "      <td>1460.000000</td>\n",
       "      <td>1460.000000</td>\n",
       "      <td>1460.000000</td>\n",
       "      <td>1460.000000</td>\n",
       "      <td>1452.000000</td>\n",
       "      <td>1460.000000</td>\n",
       "      <td>1460.000000</td>\n",
       "      <td>...</td>\n",
       "      <td>1460.000000</td>\n",
       "      <td>1460.000000</td>\n",
       "      <td>1460.000000</td>\n",
       "      <td>1460.000000</td>\n",
       "      <td>1460.000000</td>\n",
       "      <td>1460.000000</td>\n",
       "      <td>1460.000000</td>\n",
       "      <td>1460.000000</td>\n",
       "      <td>1460.000000</td>\n",
       "      <td>1460.000000</td>\n",
       "    </tr>\n",
       "    <tr>\n",
       "      <th>mean</th>\n",
       "      <td>56.897260</td>\n",
       "      <td>70.049958</td>\n",
       "      <td>10516.828082</td>\n",
       "      <td>6.099315</td>\n",
       "      <td>5.575342</td>\n",
       "      <td>1971.267808</td>\n",
       "      <td>1984.865753</td>\n",
       "      <td>103.685262</td>\n",
       "      <td>443.639726</td>\n",
       "      <td>46.549315</td>\n",
       "      <td>...</td>\n",
       "      <td>94.244521</td>\n",
       "      <td>46.660274</td>\n",
       "      <td>21.954110</td>\n",
       "      <td>3.409589</td>\n",
       "      <td>15.060959</td>\n",
       "      <td>2.758904</td>\n",
       "      <td>43.489041</td>\n",
       "      <td>6.321918</td>\n",
       "      <td>2007.815753</td>\n",
       "      <td>180921.195890</td>\n",
       "    </tr>\n",
       "    <tr>\n",
       "      <th>std</th>\n",
       "      <td>42.300571</td>\n",
       "      <td>24.284752</td>\n",
       "      <td>9981.264932</td>\n",
       "      <td>1.382997</td>\n",
       "      <td>1.112799</td>\n",
       "      <td>30.202904</td>\n",
       "      <td>20.645407</td>\n",
       "      <td>181.066207</td>\n",
       "      <td>456.098091</td>\n",
       "      <td>161.319273</td>\n",
       "      <td>...</td>\n",
       "      <td>125.338794</td>\n",
       "      <td>66.256028</td>\n",
       "      <td>61.119149</td>\n",
       "      <td>29.317331</td>\n",
       "      <td>55.757415</td>\n",
       "      <td>40.177307</td>\n",
       "      <td>496.123024</td>\n",
       "      <td>2.703626</td>\n",
       "      <td>1.328095</td>\n",
       "      <td>79442.502883</td>\n",
       "    </tr>\n",
       "    <tr>\n",
       "      <th>min</th>\n",
       "      <td>20.000000</td>\n",
       "      <td>21.000000</td>\n",
       "      <td>1300.000000</td>\n",
       "      <td>1.000000</td>\n",
       "      <td>1.000000</td>\n",
       "      <td>1872.000000</td>\n",
       "      <td>1950.000000</td>\n",
       "      <td>0.000000</td>\n",
       "      <td>0.000000</td>\n",
       "      <td>0.000000</td>\n",
       "      <td>...</td>\n",
       "      <td>0.000000</td>\n",
       "      <td>0.000000</td>\n",
       "      <td>0.000000</td>\n",
       "      <td>0.000000</td>\n",
       "      <td>0.000000</td>\n",
       "      <td>0.000000</td>\n",
       "      <td>0.000000</td>\n",
       "      <td>1.000000</td>\n",
       "      <td>2006.000000</td>\n",
       "      <td>34900.000000</td>\n",
       "    </tr>\n",
       "    <tr>\n",
       "      <th>25%</th>\n",
       "      <td>20.000000</td>\n",
       "      <td>59.000000</td>\n",
       "      <td>7553.500000</td>\n",
       "      <td>5.000000</td>\n",
       "      <td>5.000000</td>\n",
       "      <td>1954.000000</td>\n",
       "      <td>1967.000000</td>\n",
       "      <td>0.000000</td>\n",
       "      <td>0.000000</td>\n",
       "      <td>0.000000</td>\n",
       "      <td>...</td>\n",
       "      <td>0.000000</td>\n",
       "      <td>0.000000</td>\n",
       "      <td>0.000000</td>\n",
       "      <td>0.000000</td>\n",
       "      <td>0.000000</td>\n",
       "      <td>0.000000</td>\n",
       "      <td>0.000000</td>\n",
       "      <td>5.000000</td>\n",
       "      <td>2007.000000</td>\n",
       "      <td>129975.000000</td>\n",
       "    </tr>\n",
       "    <tr>\n",
       "      <th>50%</th>\n",
       "      <td>50.000000</td>\n",
       "      <td>69.000000</td>\n",
       "      <td>9478.500000</td>\n",
       "      <td>6.000000</td>\n",
       "      <td>5.000000</td>\n",
       "      <td>1973.000000</td>\n",
       "      <td>1994.000000</td>\n",
       "      <td>0.000000</td>\n",
       "      <td>383.500000</td>\n",
       "      <td>0.000000</td>\n",
       "      <td>...</td>\n",
       "      <td>0.000000</td>\n",
       "      <td>25.000000</td>\n",
       "      <td>0.000000</td>\n",
       "      <td>0.000000</td>\n",
       "      <td>0.000000</td>\n",
       "      <td>0.000000</td>\n",
       "      <td>0.000000</td>\n",
       "      <td>6.000000</td>\n",
       "      <td>2008.000000</td>\n",
       "      <td>163000.000000</td>\n",
       "    </tr>\n",
       "    <tr>\n",
       "      <th>75%</th>\n",
       "      <td>70.000000</td>\n",
       "      <td>80.000000</td>\n",
       "      <td>11601.500000</td>\n",
       "      <td>7.000000</td>\n",
       "      <td>6.000000</td>\n",
       "      <td>2000.000000</td>\n",
       "      <td>2004.000000</td>\n",
       "      <td>166.000000</td>\n",
       "      <td>712.250000</td>\n",
       "      <td>0.000000</td>\n",
       "      <td>...</td>\n",
       "      <td>168.000000</td>\n",
       "      <td>68.000000</td>\n",
       "      <td>0.000000</td>\n",
       "      <td>0.000000</td>\n",
       "      <td>0.000000</td>\n",
       "      <td>0.000000</td>\n",
       "      <td>0.000000</td>\n",
       "      <td>8.000000</td>\n",
       "      <td>2009.000000</td>\n",
       "      <td>214000.000000</td>\n",
       "    </tr>\n",
       "    <tr>\n",
       "      <th>max</th>\n",
       "      <td>190.000000</td>\n",
       "      <td>313.000000</td>\n",
       "      <td>215245.000000</td>\n",
       "      <td>10.000000</td>\n",
       "      <td>9.000000</td>\n",
       "      <td>2010.000000</td>\n",
       "      <td>2010.000000</td>\n",
       "      <td>1600.000000</td>\n",
       "      <td>5644.000000</td>\n",
       "      <td>1474.000000</td>\n",
       "      <td>...</td>\n",
       "      <td>857.000000</td>\n",
       "      <td>547.000000</td>\n",
       "      <td>552.000000</td>\n",
       "      <td>508.000000</td>\n",
       "      <td>480.000000</td>\n",
       "      <td>738.000000</td>\n",
       "      <td>15500.000000</td>\n",
       "      <td>12.000000</td>\n",
       "      <td>2010.000000</td>\n",
       "      <td>755000.000000</td>\n",
       "    </tr>\n",
       "  </tbody>\n",
       "</table>\n",
       "<p>8 rows × 37 columns</p>\n",
       "</div>"
      ],
      "text/plain": [
       "        MSSubClass  LotFrontage        LotArea  OverallQual  OverallCond  \\\n",
       "count  1460.000000  1201.000000    1460.000000  1460.000000  1460.000000   \n",
       "mean     56.897260    70.049958   10516.828082     6.099315     5.575342   \n",
       "std      42.300571    24.284752    9981.264932     1.382997     1.112799   \n",
       "min      20.000000    21.000000    1300.000000     1.000000     1.000000   \n",
       "25%      20.000000    59.000000    7553.500000     5.000000     5.000000   \n",
       "50%      50.000000    69.000000    9478.500000     6.000000     5.000000   \n",
       "75%      70.000000    80.000000   11601.500000     7.000000     6.000000   \n",
       "max     190.000000   313.000000  215245.000000    10.000000     9.000000   \n",
       "\n",
       "         YearBuilt  YearRemodAdd   MasVnrArea   BsmtFinSF1   BsmtFinSF2  ...  \\\n",
       "count  1460.000000   1460.000000  1452.000000  1460.000000  1460.000000  ...   \n",
       "mean   1971.267808   1984.865753   103.685262   443.639726    46.549315  ...   \n",
       "std      30.202904     20.645407   181.066207   456.098091   161.319273  ...   \n",
       "min    1872.000000   1950.000000     0.000000     0.000000     0.000000  ...   \n",
       "25%    1954.000000   1967.000000     0.000000     0.000000     0.000000  ...   \n",
       "50%    1973.000000   1994.000000     0.000000   383.500000     0.000000  ...   \n",
       "75%    2000.000000   2004.000000   166.000000   712.250000     0.000000  ...   \n",
       "max    2010.000000   2010.000000  1600.000000  5644.000000  1474.000000  ...   \n",
       "\n",
       "        WoodDeckSF  OpenPorchSF  EnclosedPorch    3SsnPorch  ScreenPorch  \\\n",
       "count  1460.000000  1460.000000    1460.000000  1460.000000  1460.000000   \n",
       "mean     94.244521    46.660274      21.954110     3.409589    15.060959   \n",
       "std     125.338794    66.256028      61.119149    29.317331    55.757415   \n",
       "min       0.000000     0.000000       0.000000     0.000000     0.000000   \n",
       "25%       0.000000     0.000000       0.000000     0.000000     0.000000   \n",
       "50%       0.000000    25.000000       0.000000     0.000000     0.000000   \n",
       "75%     168.000000    68.000000       0.000000     0.000000     0.000000   \n",
       "max     857.000000   547.000000     552.000000   508.000000   480.000000   \n",
       "\n",
       "          PoolArea       MiscVal       MoSold       YrSold      SalePrice  \n",
       "count  1460.000000   1460.000000  1460.000000  1460.000000    1460.000000  \n",
       "mean      2.758904     43.489041     6.321918  2007.815753  180921.195890  \n",
       "std      40.177307    496.123024     2.703626     1.328095   79442.502883  \n",
       "min       0.000000      0.000000     1.000000  2006.000000   34900.000000  \n",
       "25%       0.000000      0.000000     5.000000  2007.000000  129975.000000  \n",
       "50%       0.000000      0.000000     6.000000  2008.000000  163000.000000  \n",
       "75%       0.000000      0.000000     8.000000  2009.000000  214000.000000  \n",
       "max     738.000000  15500.000000    12.000000  2010.000000  755000.000000  \n",
       "\n",
       "[8 rows x 37 columns]"
      ]
     },
     "execution_count": 599,
     "metadata": {},
     "output_type": "execute_result"
    }
   ],
   "source": [
    "X_full.describe()"
   ]
  },
  {
   "cell_type": "code",
   "execution_count": 600,
   "metadata": {
    "execution": {
     "iopub.execute_input": "2022-03-31T20:11:51.873553Z",
     "iopub.status.busy": "2022-03-31T20:11:51.872343Z",
     "iopub.status.idle": "2022-03-31T20:11:52.124923Z",
     "shell.execute_reply": "2022-03-31T20:11:52.123952Z",
     "shell.execute_reply.started": "2022-03-31T20:11:51.873508Z"
    }
   },
   "outputs": [
    {
     "data": {
      "text/plain": [
       "<AxesSubplot:>"
      ]
     },
     "execution_count": 600,
     "metadata": {},
     "output_type": "execute_result"
    },
    {
     "data": {
      "image/png": "[encoded data removed]",
      "text/plain": [
       "<Figure size 432x288 with 1 Axes>"
      ]
     },
     "metadata": {
      "needs_background": "light"
     },
     "output_type": "display_data"
    }
   ],
   "source": [
    "X_full['SalePrice'].hist()"
   ]
  },
  {
   "cell_type": "code",
   "execution_count": 601,
   "metadata": {
    "execution": {
     "iopub.execute_input": "2022-03-31T20:12:00.741513Z",
     "iopub.status.busy": "2022-03-31T20:12:00.741128Z",
     "iopub.status.idle": "2022-03-31T20:12:07.696022Z",
     "shell.execute_reply": "2022-03-31T20:12:07.695137Z",
     "shell.execute_reply.started": "2022-03-31T20:12:00.741477Z"
    }
   },
   "outputs": [
    {
     "data": {
      "text/plain": [
       "array([[<AxesSubplot:title={'center':'MSSubClass'}>,\n",
       "        <AxesSubplot:title={'center':'LotFrontage'}>,\n",
       "        <AxesSubplot:title={'center':'LotArea'}>,\n",
       "        <AxesSubplot:title={'center':'OverallQual'}>,\n",
       "        <AxesSubplot:title={'center':'OverallCond'}>,\n",
       "        <AxesSubplot:title={'center':'YearBuilt'}>],\n",
       "       [<AxesSubplot:title={'center':'YearRemodAdd'}>,\n",
       "        <AxesSubplot:title={'center':'MasVnrArea'}>,\n",
       "        <AxesSubplot:title={'center':'BsmtFinSF1'}>,\n",
       "        <AxesSubplot:title={'center':'BsmtFinSF2'}>,\n",
       "        <AxesSubplot:title={'center':'BsmtUnfSF'}>,\n",
       "        <AxesSubplot:title={'center':'TotalBsmtSF'}>],\n",
       "       [<AxesSubplot:title={'center':'1stFlrSF'}>,\n",
       "        <AxesSubplot:title={'center':'2ndFlrSF'}>,\n",
       "        <AxesSubplot:title={'center':'LowQualFinSF'}>,\n",
       "        <AxesSubplot:title={'center':'GrLivArea'}>,\n",
       "        <AxesSubplot:title={'center':'BsmtFullBath'}>,\n",
       "        <AxesSubplot:title={'center':'BsmtHalfBath'}>],\n",
       "       [<AxesSubplot:title={'center':'FullBath'}>,\n",
       "        <AxesSubplot:title={'center':'HalfBath'}>,\n",
       "        <AxesSubplot:title={'center':'BedroomAbvGr'}>,\n",
       "        <AxesSubplot:title={'center':'KitchenAbvGr'}>,\n",
       "        <AxesSubplot:title={'center':'TotRmsAbvGrd'}>,\n",
       "        <AxesSubplot:title={'center':'Fireplaces'}>],\n",
       "       [<AxesSubplot:title={'center':'GarageYrBlt'}>,\n",
       "        <AxesSubplot:title={'center':'GarageCars'}>,\n",
       "        <AxesSubplot:title={'center':'GarageArea'}>,\n",
       "        <AxesSubplot:title={'center':'WoodDeckSF'}>,\n",
       "        <AxesSubplot:title={'center':'OpenPorchSF'}>,\n",
       "        <AxesSubplot:title={'center':'EnclosedPorch'}>],\n",
       "       [<AxesSubplot:title={'center':'3SsnPorch'}>,\n",
       "        <AxesSubplot:title={'center':'ScreenPorch'}>,\n",
       "        <AxesSubplot:title={'center':'PoolArea'}>,\n",
       "        <AxesSubplot:title={'center':'MiscVal'}>,\n",
       "        <AxesSubplot:title={'center':'MoSold'}>,\n",
       "        <AxesSubplot:title={'center':'YrSold'}>],\n",
       "       [<AxesSubplot:title={'center':'SalePrice'}>, <AxesSubplot:>,\n",
       "        <AxesSubplot:>, <AxesSubplot:>, <AxesSubplot:>, <AxesSubplot:>]],\n",
       "      dtype=object)"
      ]
     },
     "execution_count": 601,
     "metadata": {},
     "output_type": "execute_result"
    },
    {
     "data": {
      "image/png": "[encoded data removed]",
      "text/plain": [
       "<Figure size 1440x1440 with 42 Axes>"
      ]
     },
     "metadata": {
      "needs_background": "light"
     },
     "output_type": "display_data"
    }
   ],
   "source": [
    "X_full.hist(bins=int(np.sqrt(len(X_full))),figsize=(20,20))"
   ]
  },
  {
   "cell_type": "code",
   "execution_count": 602,
   "metadata": {
    "execution": {
     "iopub.execute_input": "2022-03-31T20:12:07.697861Z",
     "iopub.status.busy": "2022-03-31T20:12:07.697614Z",
     "iopub.status.idle": "2022-03-31T20:12:07.713831Z",
     "shell.execute_reply": "2022-03-31T20:12:07.713236Z",
     "shell.execute_reply.started": "2022-03-31T20:12:07.697832Z"
    }
   },
   "outputs": [
    {
     "data": {
      "text/plain": [
       "SalePrice        1.000000\n",
       "OverallQual      0.790982\n",
       "GrLivArea        0.708624\n",
       "GarageCars       0.640409\n",
       "GarageArea       0.623431\n",
       "TotalBsmtSF      0.613581\n",
       "1stFlrSF         0.605852\n",
       "FullBath         0.560664\n",
       "TotRmsAbvGrd     0.533723\n",
       "YearBuilt        0.522897\n",
       "YearRemodAdd     0.507101\n",
       "GarageYrBlt      0.486362\n",
       "MasVnrArea       0.477493\n",
       "Fireplaces       0.466929\n",
       "BsmtFinSF1       0.386420\n",
       "LotFrontage      0.351799\n",
       "WoodDeckSF       0.324413\n",
       "2ndFlrSF         0.319334\n",
       "OpenPorchSF      0.315856\n",
       "HalfBath         0.284108\n",
       "LotArea          0.263843\n",
       "BsmtFullBath     0.227122\n",
       "BsmtUnfSF        0.214479\n",
       "BedroomAbvGr     0.168213\n",
       "ScreenPorch      0.111447\n",
       "PoolArea         0.092404\n",
       "MoSold           0.046432\n",
       "3SsnPorch        0.044584\n",
       "BsmtFinSF2      -0.011378\n",
       "BsmtHalfBath    -0.016844\n",
       "MiscVal         -0.021190\n",
       "LowQualFinSF    -0.025606\n",
       "YrSold          -0.028923\n",
       "OverallCond     -0.077856\n",
       "MSSubClass      -0.084284\n",
       "EnclosedPorch   -0.128578\n",
       "KitchenAbvGr    -0.135907\n",
       "Name: SalePrice, dtype: float64"
      ]
     },
     "execution_count": 602,
     "metadata": {},
     "output_type": "execute_result"
    }
   ],
   "source": [
    "X_full.corr()['SalePrice'].sort_values(ascending=False)"
   ]
  },
  {
   "cell_type": "code",
   "execution_count": 603,
   "metadata": {
    "execution": {
     "iopub.execute_input": "2022-03-31T20:12:07.715862Z",
     "iopub.status.busy": "2022-03-31T20:12:07.715385Z",
     "iopub.status.idle": "2022-03-31T20:12:08.231729Z",
     "shell.execute_reply": "2022-03-31T20:12:08.230861Z",
     "shell.execute_reply.started": "2022-03-31T20:12:07.715831Z"
    }
   },
   "outputs": [
    {
     "data": {
      "text/plain": [
       "<AxesSubplot:>"
      ]
     },
     "execution_count": 603,
     "metadata": {},
     "output_type": "execute_result"
    },
    {
     "data": {
      "image/png": "[encoded data removed]",
      "text/plain": [
       "<Figure size 432x288 with 2 Axes>"
      ]
     },
     "metadata": {
      "needs_background": "light"
     },
     "output_type": "display_data"
    }
   ],
   "source": [
    "import seaborn as sns\n",
    "sns.heatmap(X_full.corr(),cmap=\"YlGnBu\")"
   ]
  },
  {
   "cell_type": "code",
   "execution_count": 604,
   "metadata": {
    "execution": {
     "iopub.execute_input": "2022-03-31T20:12:08.233804Z",
     "iopub.status.busy": "2022-03-31T20:12:08.233561Z",
     "iopub.status.idle": "2022-03-31T20:12:08.238775Z",
     "shell.execute_reply": "2022-03-31T20:12:08.237723Z",
     "shell.execute_reply.started": "2022-03-31T20:12:08.233776Z"
    }
   },
   "outputs": [],
   "source": [
    "features_NA=['Alley','BsmtQual','BsmtCond','BsmtExposure','BsmtFinType1','BsmtFinType2','FireplaceQu','GarageType','GarageFinish','GarageQual','GarageCond','PoolQC','Fence']"
   ]
  },
  {
   "cell_type": "code",
   "execution_count": 605,
   "metadata": {},
   "outputs": [
    {
     "data": {
      "text/plain": [
       "array([nan, 'Grvl', 'Pave'], dtype=object)"
      ]
     },
     "execution_count": 605,
     "metadata": {},
     "output_type": "execute_result"
    }
   ],
   "source": [
    "X_full['Alley'].unique()"
   ]
  },
  {
   "cell_type": "code",
   "execution_count": 606,
   "metadata": {
    "execution": {
     "iopub.execute_input": "2022-03-31T20:12:10.050039Z",
     "iopub.status.busy": "2022-03-31T20:12:10.049771Z",
     "iopub.status.idle": "2022-03-31T20:12:10.070069Z",
     "shell.execute_reply": "2022-03-31T20:12:10.069281Z",
     "shell.execute_reply.started": "2022-03-31T20:12:10.050012Z"
    }
   },
   "outputs": [],
   "source": [
    "from sklearn.impute import SimpleImputer\n",
    "imp_none = SimpleImputer( missing_values=np.nan,strategy='constant',fill_value='None')\n",
    "df_concat=imp_none.fit_transform(X_full[features_NA])\n",
    "X_full[features_NA]=df_concat\n"
   ]
  },
  {
   "cell_type": "code",
   "execution_count": 607,
   "metadata": {},
   "outputs": [
    {
     "data": {
      "text/plain": [
       "array(['None', 'Grvl', 'Pave'], dtype=object)"
      ]
     },
     "execution_count": 607,
     "metadata": {},
     "output_type": "execute_result"
    }
   ],
   "source": [
    "X_full['Alley'].unique()"
   ]
  },
  {
   "cell_type": "code",
   "execution_count": 608,
   "metadata": {
    "execution": {
     "iopub.execute_input": "2022-03-31T20:12:12.371806Z",
     "iopub.status.busy": "2022-03-31T20:12:12.371499Z",
     "iopub.status.idle": "2022-03-31T20:12:12.400803Z",
     "shell.execute_reply": "2022-03-31T20:12:12.399738Z",
     "shell.execute_reply.started": "2022-03-31T20:12:12.371775Z"
    }
   },
   "outputs": [
    {
     "data": {
      "text/html": [
       "<div>\n",
       "<style scoped>\n",
       "    .dataframe tbody tr th:only-of-type {\n",
       "        vertical-align: middle;\n",
       "    }\n",
       "\n",
       "    .dataframe tbody tr th {\n",
       "        vertical-align: top;\n",
       "    }\n",
       "\n",
       "    .dataframe thead th {\n",
       "        text-align: right;\n",
       "    }\n",
       "</style>\n",
       "<table border=\"1\" class=\"dataframe\">\n",
       "  <thead>\n",
       "    <tr style=\"text-align: right;\">\n",
       "      <th></th>\n",
       "      <th>MSSubClass</th>\n",
       "      <th>MSZoning</th>\n",
       "      <th>LotFrontage</th>\n",
       "      <th>LotArea</th>\n",
       "      <th>Street</th>\n",
       "      <th>Alley</th>\n",
       "      <th>LotShape</th>\n",
       "      <th>LandContour</th>\n",
       "      <th>Utilities</th>\n",
       "      <th>LotConfig</th>\n",
       "      <th>...</th>\n",
       "      <th>PoolArea</th>\n",
       "      <th>PoolQC</th>\n",
       "      <th>Fence</th>\n",
       "      <th>MiscFeature</th>\n",
       "      <th>MiscVal</th>\n",
       "      <th>MoSold</th>\n",
       "      <th>YrSold</th>\n",
       "      <th>SaleType</th>\n",
       "      <th>SaleCondition</th>\n",
       "      <th>SalePrice</th>\n",
       "    </tr>\n",
       "    <tr>\n",
       "      <th>Id</th>\n",
       "      <th></th>\n",
       "      <th></th>\n",
       "      <th></th>\n",
       "      <th></th>\n",
       "      <th></th>\n",
       "      <th></th>\n",
       "      <th></th>\n",
       "      <th></th>\n",
       "      <th></th>\n",
       "      <th></th>\n",
       "      <th></th>\n",
       "      <th></th>\n",
       "      <th></th>\n",
       "      <th></th>\n",
       "      <th></th>\n",
       "      <th></th>\n",
       "      <th></th>\n",
       "      <th></th>\n",
       "      <th></th>\n",
       "      <th></th>\n",
       "      <th></th>\n",
       "    </tr>\n",
       "  </thead>\n",
       "  <tbody>\n",
       "    <tr>\n",
       "      <th>1</th>\n",
       "      <td>60</td>\n",
       "      <td>RL</td>\n",
       "      <td>65.0</td>\n",
       "      <td>8450</td>\n",
       "      <td>Pave</td>\n",
       "      <td>None</td>\n",
       "      <td>Reg</td>\n",
       "      <td>Lvl</td>\n",
       "      <td>AllPub</td>\n",
       "      <td>Inside</td>\n",
       "      <td>...</td>\n",
       "      <td>0</td>\n",
       "      <td>None</td>\n",
       "      <td>None</td>\n",
       "      <td>NaN</td>\n",
       "      <td>0</td>\n",
       "      <td>2</td>\n",
       "      <td>2008</td>\n",
       "      <td>WD</td>\n",
       "      <td>Normal</td>\n",
       "      <td>208500</td>\n",
       "    </tr>\n",
       "    <tr>\n",
       "      <th>2</th>\n",
       "      <td>20</td>\n",
       "      <td>RL</td>\n",
       "      <td>80.0</td>\n",
       "      <td>9600</td>\n",
       "      <td>Pave</td>\n",
       "      <td>None</td>\n",
       "      <td>Reg</td>\n",
       "      <td>Lvl</td>\n",
       "      <td>AllPub</td>\n",
       "      <td>FR2</td>\n",
       "      <td>...</td>\n",
       "      <td>0</td>\n",
       "      <td>None</td>\n",
       "      <td>None</td>\n",
       "      <td>NaN</td>\n",
       "      <td>0</td>\n",
       "      <td>5</td>\n",
       "      <td>2007</td>\n",
       "      <td>WD</td>\n",
       "      <td>Normal</td>\n",
       "      <td>181500</td>\n",
       "    </tr>\n",
       "    <tr>\n",
       "      <th>3</th>\n",
       "      <td>60</td>\n",
       "      <td>RL</td>\n",
       "      <td>68.0</td>\n",
       "      <td>11250</td>\n",
       "      <td>Pave</td>\n",
       "      <td>None</td>\n",
       "      <td>IR1</td>\n",
       "      <td>Lvl</td>\n",
       "      <td>AllPub</td>\n",
       "      <td>Inside</td>\n",
       "      <td>...</td>\n",
       "      <td>0</td>\n",
       "      <td>None</td>\n",
       "      <td>None</td>\n",
       "      <td>NaN</td>\n",
       "      <td>0</td>\n",
       "      <td>9</td>\n",
       "      <td>2008</td>\n",
       "      <td>WD</td>\n",
       "      <td>Normal</td>\n",
       "      <td>223500</td>\n",
       "    </tr>\n",
       "    <tr>\n",
       "      <th>4</th>\n",
       "      <td>70</td>\n",
       "      <td>RL</td>\n",
       "      <td>60.0</td>\n",
       "      <td>9550</td>\n",
       "      <td>Pave</td>\n",
       "      <td>None</td>\n",
       "      <td>IR1</td>\n",
       "      <td>Lvl</td>\n",
       "      <td>AllPub</td>\n",
       "      <td>Corner</td>\n",
       "      <td>...</td>\n",
       "      <td>0</td>\n",
       "      <td>None</td>\n",
       "      <td>None</td>\n",
       "      <td>NaN</td>\n",
       "      <td>0</td>\n",
       "      <td>2</td>\n",
       "      <td>2006</td>\n",
       "      <td>WD</td>\n",
       "      <td>Abnorml</td>\n",
       "      <td>140000</td>\n",
       "    </tr>\n",
       "    <tr>\n",
       "      <th>5</th>\n",
       "      <td>60</td>\n",
       "      <td>RL</td>\n",
       "      <td>84.0</td>\n",
       "      <td>14260</td>\n",
       "      <td>Pave</td>\n",
       "      <td>None</td>\n",
       "      <td>IR1</td>\n",
       "      <td>Lvl</td>\n",
       "      <td>AllPub</td>\n",
       "      <td>FR2</td>\n",
       "      <td>...</td>\n",
       "      <td>0</td>\n",
       "      <td>None</td>\n",
       "      <td>None</td>\n",
       "      <td>NaN</td>\n",
       "      <td>0</td>\n",
       "      <td>12</td>\n",
       "      <td>2008</td>\n",
       "      <td>WD</td>\n",
       "      <td>Normal</td>\n",
       "      <td>250000</td>\n",
       "    </tr>\n",
       "  </tbody>\n",
       "</table>\n",
       "<p>5 rows × 80 columns</p>\n",
       "</div>"
      ],
      "text/plain": [
       "    MSSubClass MSZoning  LotFrontage  LotArea Street Alley LotShape  \\\n",
       "Id                                                                    \n",
       "1           60       RL         65.0     8450   Pave  None      Reg   \n",
       "2           20       RL         80.0     9600   Pave  None      Reg   \n",
       "3           60       RL         68.0    11250   Pave  None      IR1   \n",
       "4           70       RL         60.0     9550   Pave  None      IR1   \n",
       "5           60       RL         84.0    14260   Pave  None      IR1   \n",
       "\n",
       "   LandContour Utilities LotConfig  ... PoolArea PoolQC Fence MiscFeature  \\\n",
       "Id                                  ...                                     \n",
       "1          Lvl    AllPub    Inside  ...        0   None  None         NaN   \n",
       "2          Lvl    AllPub       FR2  ...        0   None  None         NaN   \n",
       "3          Lvl    AllPub    Inside  ...        0   None  None         NaN   \n",
       "4          Lvl    AllPub    Corner  ...        0   None  None         NaN   \n",
       "5          Lvl    AllPub       FR2  ...        0   None  None         NaN   \n",
       "\n",
       "   MiscVal MoSold  YrSold  SaleType  SaleCondition  SalePrice  \n",
       "Id                                                             \n",
       "1        0      2    2008        WD         Normal     208500  \n",
       "2        0      5    2007        WD         Normal     181500  \n",
       "3        0      9    2008        WD         Normal     223500  \n",
       "4        0      2    2006        WD        Abnorml     140000  \n",
       "5        0     12    2008        WD         Normal     250000  \n",
       "\n",
       "[5 rows x 80 columns]"
      ]
     },
     "execution_count": 608,
     "metadata": {},
     "output_type": "execute_result"
    }
   ],
   "source": [
    "X_full.head()"
   ]
  },
  {
   "cell_type": "code",
   "execution_count": 609,
   "metadata": {},
   "outputs": [
    {
     "name": "stdout",
     "output_type": "stream",
     "text": [
      "<class 'pandas.core.frame.DataFrame'>\n",
      "Int64Index: 1460 entries, 1 to 1460\n",
      "Data columns (total 1 columns):\n",
      " #   Column       Non-Null Count  Dtype \n",
      "---  ------       --------------  ----- \n",
      " 0   MiscFeature  54 non-null     object\n",
      "dtypes: object(1)\n",
      "memory usage: 22.8+ KB\n"
     ]
    }
   ],
   "source": [
    "X_full[['MiscFeature']].info()"
   ]
  },
  {
   "cell_type": "code",
   "execution_count": 610,
   "metadata": {},
   "outputs": [],
   "source": [
    "features_with_large_nans=X_full.columns[X_full.isna().mean()*100>5]"
   ]
  },
  {
   "cell_type": "code",
   "execution_count": 611,
   "metadata": {},
   "outputs": [
    {
     "data": {
      "text/plain": [
       "Index(['LotFrontage', 'GarageYrBlt', 'MiscFeature'], dtype='object')"
      ]
     },
     "execution_count": 611,
     "metadata": {},
     "output_type": "execute_result"
    }
   ],
   "source": [
    "features_with_large_nans"
   ]
  },
  {
   "cell_type": "code",
   "execution_count": 612,
   "metadata": {},
   "outputs": [],
   "source": [
    "X_full.drop(features_with_large_nans,axis=1,inplace=True)"
   ]
  },
  {
   "cell_type": "markdown",
   "metadata": {
    "execution": {
     "iopub.execute_input": "2022-03-31T08:20:51.237675Z",
     "iopub.status.busy": "2022-03-31T08:20:51.237399Z",
     "iopub.status.idle": "2022-03-31T08:20:51.245213Z",
     "shell.execute_reply": "2022-03-31T08:20:51.244643Z",
     "shell.execute_reply.started": "2022-03-31T08:20:51.237645Z"
    }
   },
   "source": []
  },
  {
   "cell_type": "code",
   "execution_count": 613,
   "metadata": {
    "execution": {
     "iopub.execute_input": "2022-03-31T20:12:19.641676Z",
     "iopub.status.busy": "2022-03-31T20:12:19.641171Z",
     "iopub.status.idle": "2022-03-31T20:12:19.649068Z",
     "shell.execute_reply": "2022-03-31T20:12:19.648100Z",
     "shell.execute_reply.started": "2022-03-31T20:12:19.641638Z"
    }
   },
   "outputs": [],
   "source": [
    "features_one_hot=['Alley','MSZoning','LandContour','Neighborhood','LandSlope','HouseStyle','RoofMatl','Exterior1st','MasVnrType','Foundation','BsmtFinType1','BsmtFinType2','Heating','GarageType','SaleType','SaleCondition','Condition1','Condition2','RoofStyle','CentralAir','BldgType','Functional','Exterior2nd','LotConfig']"
   ]
  },
  {
   "cell_type": "code",
   "execution_count": 614,
   "metadata": {
    "execution": {
     "iopub.execute_input": "2022-03-31T20:12:21.877772Z",
     "iopub.status.busy": "2022-03-31T20:12:21.877468Z",
     "iopub.status.idle": "2022-03-31T20:12:21.894529Z",
     "shell.execute_reply": "2022-03-31T20:12:21.893165Z",
     "shell.execute_reply.started": "2022-03-31T20:12:21.877740Z"
    }
   },
   "outputs": [
    {
     "data": {
      "text/plain": [
       "['MasVnrType']"
      ]
     },
     "execution_count": 614,
     "metadata": {},
     "output_type": "execute_result"
    }
   ],
   "source": [
    "Nans_features=X_full[features_one_hot].columns[X_full[features_one_hot].isna().any()].tolist()\n",
    "Nans_features"
   ]
  },
  {
   "cell_type": "code",
   "execution_count": 615,
   "metadata": {
    "execution": {
     "iopub.execute_input": "2022-03-31T20:12:24.033497Z",
     "iopub.status.busy": "2022-03-31T20:12:24.033139Z",
     "iopub.status.idle": "2022-03-31T20:12:24.046941Z",
     "shell.execute_reply": "2022-03-31T20:12:24.045993Z",
     "shell.execute_reply.started": "2022-03-31T20:12:24.033454Z"
    }
   },
   "outputs": [],
   "source": [
    "imp = SimpleImputer(strategy='most_frequent')\n",
    "df_concat=(imp.fit_transform(X_full[Nans_features]))\n",
    "X_full[Nans_features]=df_concat\n"
   ]
  },
  {
   "cell_type": "code",
   "execution_count": 616,
   "metadata": {
    "execution": {
     "iopub.execute_input": "2022-03-31T20:12:24.849293Z",
     "iopub.status.busy": "2022-03-31T20:12:24.849009Z",
     "iopub.status.idle": "2022-03-31T20:12:24.862144Z",
     "shell.execute_reply": "2022-03-31T20:12:24.861542Z",
     "shell.execute_reply.started": "2022-03-31T20:12:24.849248Z"
    }
   },
   "outputs": [
    {
     "data": {
      "text/plain": [
       "MasVnrType    False\n",
       "dtype: bool"
      ]
     },
     "execution_count": 616,
     "metadata": {},
     "output_type": "execute_result"
    }
   ],
   "source": [
    "X_full[Nans_features].isna().any()"
   ]
  },
  {
   "cell_type": "code",
   "execution_count": 617,
   "metadata": {
    "execution": {
     "iopub.execute_input": "2022-03-31T20:12:26.399923Z",
     "iopub.status.busy": "2022-03-31T20:12:26.399586Z",
     "iopub.status.idle": "2022-03-31T20:12:26.598929Z",
     "shell.execute_reply": "2022-03-31T20:12:26.598274Z",
     "shell.execute_reply.started": "2022-03-31T20:12:26.399889Z"
    }
   },
   "outputs": [],
   "source": [
    "from sklearn.preprocessing import OneHotEncoder\n",
    "en=OneHotEncoder(sparse=False)\n",
    "for feat in features_one_hot :\n",
    "    one_hot=en.fit_transform(X_full[feat].values.reshape(-1,1))\n",
    "    dff=pd.DataFrame(one_hot,columns=en.categories_,index=X_full.index)\n",
    "    X_full[en.categories_[0]]=dff\n",
    "    X_full.drop(feat,axis=1,inplace=True)\n",
    "    \n",
    "\n"
   ]
  },
  {
   "cell_type": "code",
   "execution_count": 618,
   "metadata": {
    "execution": {
     "iopub.execute_input": "2022-03-31T20:12:27.714152Z",
     "iopub.status.busy": "2022-03-31T20:12:27.713362Z",
     "iopub.status.idle": "2022-03-31T20:12:27.720415Z",
     "shell.execute_reply": "2022-03-31T20:12:27.719509Z",
     "shell.execute_reply.started": "2022-03-31T20:12:27.714109Z"
    }
   },
   "outputs": [],
   "source": [
    "features_ordinal_enc=['LotShape','Utilities','ExterQual','ExterCond','BsmtQual','BsmtCond','BsmtExposure','HeatingQC','KitchenQual','FireplaceQu','GarageFinish','GarageQual','GarageCond','PoolQC','Electrical','Fence','Street','PavedDrive']"
   ]
  },
  {
   "cell_type": "code",
   "execution_count": 619,
   "metadata": {
    "execution": {
     "iopub.execute_input": "2022-03-31T20:12:28.744919Z",
     "iopub.status.busy": "2022-03-31T20:12:28.743869Z",
     "iopub.status.idle": "2022-03-31T20:12:28.757895Z",
     "shell.execute_reply": "2022-03-31T20:12:28.756779Z",
     "shell.execute_reply.started": "2022-03-31T20:12:28.744866Z"
    }
   },
   "outputs": [
    {
     "data": {
      "text/plain": [
       "LotShape        False\n",
       "Utilities       False\n",
       "ExterQual       False\n",
       "ExterCond       False\n",
       "BsmtQual        False\n",
       "BsmtCond        False\n",
       "BsmtExposure    False\n",
       "HeatingQC       False\n",
       "KitchenQual     False\n",
       "FireplaceQu     False\n",
       "GarageFinish    False\n",
       "GarageQual      False\n",
       "GarageCond      False\n",
       "PoolQC          False\n",
       "Electrical       True\n",
       "Fence           False\n",
       "Street          False\n",
       "PavedDrive      False\n",
       "dtype: bool"
      ]
     },
     "execution_count": 619,
     "metadata": {},
     "output_type": "execute_result"
    }
   ],
   "source": [
    "X_full[features_ordinal_enc].isnull().any()"
   ]
  },
  {
   "cell_type": "code",
   "execution_count": 620,
   "metadata": {
    "execution": {
     "iopub.execute_input": "2022-03-31T20:12:29.850646Z",
     "iopub.status.busy": "2022-03-31T20:12:29.850361Z",
     "iopub.status.idle": "2022-03-31T20:12:29.864923Z",
     "shell.execute_reply": "2022-03-31T20:12:29.864303Z",
     "shell.execute_reply.started": "2022-03-31T20:12:29.850616Z"
    }
   },
   "outputs": [],
   "source": [
    "\n",
    "Nans_features=['BsmtQual','BsmtCond','BsmtExposure','FireplaceQu','GarageFinish','GarageQual','GarageCond','PoolQC','Electrical','Fence']\n",
    "imp = SimpleImputer(strategy='most_frequent')\n",
    "df_concat=imp.fit_transform(X_full[Nans_features])\n",
    "X_full[Nans_features]=df_concat"
   ]
  },
  {
   "cell_type": "code",
   "execution_count": 621,
   "metadata": {
    "execution": {
     "iopub.execute_input": "2022-03-31T20:12:31.303658Z",
     "iopub.status.busy": "2022-03-31T20:12:31.303221Z",
     "iopub.status.idle": "2022-03-31T20:12:31.315377Z",
     "shell.execute_reply": "2022-03-31T20:12:31.314330Z",
     "shell.execute_reply.started": "2022-03-31T20:12:31.303628Z"
    }
   },
   "outputs": [
    {
     "data": {
      "text/plain": [
       "BsmtQual        False\n",
       "BsmtCond        False\n",
       "BsmtExposure    False\n",
       "FireplaceQu     False\n",
       "GarageFinish    False\n",
       "GarageQual      False\n",
       "GarageCond      False\n",
       "PoolQC          False\n",
       "Electrical      False\n",
       "Fence           False\n",
       "dtype: bool"
      ]
     },
     "execution_count": 621,
     "metadata": {},
     "output_type": "execute_result"
    }
   ],
   "source": [
    "X_full[Nans_features].isna().any()"
   ]
  },
  {
   "cell_type": "code",
   "execution_count": 622,
   "metadata": {
    "execution": {
     "iopub.execute_input": "2022-03-31T20:12:42.040536Z",
     "iopub.status.busy": "2022-03-31T20:12:42.040251Z",
     "iopub.status.idle": "2022-03-31T20:12:42.079326Z",
     "shell.execute_reply": "2022-03-31T20:12:42.078185Z",
     "shell.execute_reply.started": "2022-03-31T20:12:42.040508Z"
    }
   },
   "outputs": [],
   "source": [
    "X_full['LotShape']=X_full['LotShape'].map({\"IR3\":0,'IR2':1,\n",
    "                        'IR1':2,'Reg':3})\n",
    "X_full['Utilities']=X_full['Utilities'].map({\"ELO\":0,\"NoSeWa\":1\n",
    "                         ,\"NoSewr\":2,\"AllPub\":3})\n",
    "X_full['ExterQual']=X_full['ExterQual'].map({'Po':0,'Fa':1,'TA':2\n",
    "                         ,'Gd':3,'Ex':4})\n",
    "X_full['ExterCond']=X_full['ExterCond'].map({'Po':0,'Fa':1,'TA':2\n",
    "                         ,'Gd':3,'Ex':4})\n",
    "X_full['BsmtQual']=X_full['BsmtQual'].map({'None':0,'Po':1,'Fa':2,'TA':3\n",
    "                         ,'Gd':4,'Ex':5})\n",
    "X_full['BsmtCond']=X_full['BsmtCond'].map({'None':0,'Po':1,'Fa':2,'TA':3\n",
    "                         ,'Gd':4,'Ex':5})\n",
    "X_full['BsmtExposure']=X_full['BsmtExposure'].map({'None':0 ,\"No\":1,\"Mn\":2,\"Av\":3,'Gd':4 })\n",
    "\n",
    "X_full['HeatingQC']=X_full['HeatingQC'].map({'None':0,'Po':1,'Fa':2,'TA':3\n",
    "                         ,'Gd':4,'Ex':5})\n",
    "X_full['KitchenQual']=X_full['KitchenQual'].map({'Po':0,'Fa':1,'TA':2\n",
    "                         ,'Gd':3,'Ex':4})\n",
    "\n",
    "X_full['FireplaceQu']=X_full['FireplaceQu'].map({'None':0,'Po':1,'Fa':2,'TA':3\n",
    "                         ,'Gd':4,'Ex':5})\n",
    "\n",
    "X_full['GarageFinish']=X_full['GarageFinish'].map({'None':0,'Unf':1,'RFn':2,'Fin':3})\n",
    "\n",
    "X_full['GarageQual']=X_full['GarageQual'].map({'None':0,'Po':1,'Fa':2,'TA':3\n",
    "                         ,'Gd':4,'Ex':5})\n",
    "X_full['GarageCond']=X_full['GarageCond'].map({'None':0,'Po':1,'Fa':2,'TA':3\n",
    "                         ,'Gd':4,'Ex':5})\n",
    "X_full['PoolQC']=X_full['PoolQC'].map({'None':0,'Po':1,'Fa':2,'TA':3\n",
    "                         ,'Gd':4,'Ex':5})\n",
    "X_full['Electrical']=X_full['Electrical'].map({'SBrkr':4,'FuseA':3,'FuseF':2,'FuseP':1,\"Mix\":0 })\n",
    "X_full['Fence']=X_full['Fence'].map({'None':0,'MnWw':1,'GdWo':2,'MnPrv':3,'GdPrv':4\n",
    "                                    })\n",
    "X_full['Street']=X_full['Street'].map({'Grvl':0 , 'Pave':1})\n",
    "X_full['PavedDrive']=X_full['PavedDrive'].map({'N':0,'P':1,'Y':2})"
   ]
  },
  {
   "cell_type": "code",
   "execution_count": 623,
   "metadata": {
    "execution": {
     "iopub.execute_input": "2022-03-31T20:12:42.082665Z",
     "iopub.status.busy": "2022-03-31T20:12:42.081737Z",
     "iopub.status.idle": "2022-03-31T20:12:42.124605Z",
     "shell.execute_reply": "2022-03-31T20:12:42.123652Z",
     "shell.execute_reply.started": "2022-03-31T20:12:42.082619Z"
    }
   },
   "outputs": [
    {
     "data": {
      "text/html": [
       "<div>\n",
       "<style scoped>\n",
       "    .dataframe tbody tr th:only-of-type {\n",
       "        vertical-align: middle;\n",
       "    }\n",
       "\n",
       "    .dataframe tbody tr th {\n",
       "        vertical-align: top;\n",
       "    }\n",
       "\n",
       "    .dataframe thead th {\n",
       "        text-align: right;\n",
       "    }\n",
       "</style>\n",
       "<table border=\"1\" class=\"dataframe\">\n",
       "  <thead>\n",
       "    <tr style=\"text-align: right;\">\n",
       "      <th></th>\n",
       "      <th>MSSubClass</th>\n",
       "      <th>LotArea</th>\n",
       "      <th>Street</th>\n",
       "      <th>LotShape</th>\n",
       "      <th>Utilities</th>\n",
       "      <th>OverallQual</th>\n",
       "      <th>OverallCond</th>\n",
       "      <th>YearBuilt</th>\n",
       "      <th>YearRemodAdd</th>\n",
       "      <th>MasVnrArea</th>\n",
       "      <th>...</th>\n",
       "      <th>Typ</th>\n",
       "      <th>Brk Cmn</th>\n",
       "      <th>CmentBd</th>\n",
       "      <th>Other</th>\n",
       "      <th>Wd Shng</th>\n",
       "      <th>Corner</th>\n",
       "      <th>CulDSac</th>\n",
       "      <th>FR2</th>\n",
       "      <th>FR3</th>\n",
       "      <th>Inside</th>\n",
       "    </tr>\n",
       "    <tr>\n",
       "      <th>Id</th>\n",
       "      <th></th>\n",
       "      <th></th>\n",
       "      <th></th>\n",
       "      <th></th>\n",
       "      <th></th>\n",
       "      <th></th>\n",
       "      <th></th>\n",
       "      <th></th>\n",
       "      <th></th>\n",
       "      <th></th>\n",
       "      <th></th>\n",
       "      <th></th>\n",
       "      <th></th>\n",
       "      <th></th>\n",
       "      <th></th>\n",
       "      <th></th>\n",
       "      <th></th>\n",
       "      <th></th>\n",
       "      <th></th>\n",
       "      <th></th>\n",
       "      <th></th>\n",
       "    </tr>\n",
       "  </thead>\n",
       "  <tbody>\n",
       "    <tr>\n",
       "      <th>1</th>\n",
       "      <td>60</td>\n",
       "      <td>8450</td>\n",
       "      <td>1</td>\n",
       "      <td>3</td>\n",
       "      <td>3</td>\n",
       "      <td>7</td>\n",
       "      <td>5</td>\n",
       "      <td>2003</td>\n",
       "      <td>2003</td>\n",
       "      <td>196.0</td>\n",
       "      <td>...</td>\n",
       "      <td>1.0</td>\n",
       "      <td>0.0</td>\n",
       "      <td>0.0</td>\n",
       "      <td>0.0</td>\n",
       "      <td>0.0</td>\n",
       "      <td>0.0</td>\n",
       "      <td>0.0</td>\n",
       "      <td>0.0</td>\n",
       "      <td>0.0</td>\n",
       "      <td>1.0</td>\n",
       "    </tr>\n",
       "    <tr>\n",
       "      <th>2</th>\n",
       "      <td>20</td>\n",
       "      <td>9600</td>\n",
       "      <td>1</td>\n",
       "      <td>3</td>\n",
       "      <td>3</td>\n",
       "      <td>6</td>\n",
       "      <td>8</td>\n",
       "      <td>1976</td>\n",
       "      <td>1976</td>\n",
       "      <td>0.0</td>\n",
       "      <td>...</td>\n",
       "      <td>1.0</td>\n",
       "      <td>0.0</td>\n",
       "      <td>0.0</td>\n",
       "      <td>0.0</td>\n",
       "      <td>0.0</td>\n",
       "      <td>0.0</td>\n",
       "      <td>0.0</td>\n",
       "      <td>1.0</td>\n",
       "      <td>0.0</td>\n",
       "      <td>0.0</td>\n",
       "    </tr>\n",
       "    <tr>\n",
       "      <th>3</th>\n",
       "      <td>60</td>\n",
       "      <td>11250</td>\n",
       "      <td>1</td>\n",
       "      <td>2</td>\n",
       "      <td>3</td>\n",
       "      <td>7</td>\n",
       "      <td>5</td>\n",
       "      <td>2001</td>\n",
       "      <td>2002</td>\n",
       "      <td>162.0</td>\n",
       "      <td>...</td>\n",
       "      <td>1.0</td>\n",
       "      <td>0.0</td>\n",
       "      <td>0.0</td>\n",
       "      <td>0.0</td>\n",
       "      <td>0.0</td>\n",
       "      <td>0.0</td>\n",
       "      <td>0.0</td>\n",
       "      <td>0.0</td>\n",
       "      <td>0.0</td>\n",
       "      <td>1.0</td>\n",
       "    </tr>\n",
       "    <tr>\n",
       "      <th>4</th>\n",
       "      <td>70</td>\n",
       "      <td>9550</td>\n",
       "      <td>1</td>\n",
       "      <td>2</td>\n",
       "      <td>3</td>\n",
       "      <td>7</td>\n",
       "      <td>5</td>\n",
       "      <td>1915</td>\n",
       "      <td>1970</td>\n",
       "      <td>0.0</td>\n",
       "      <td>...</td>\n",
       "      <td>1.0</td>\n",
       "      <td>0.0</td>\n",
       "      <td>0.0</td>\n",
       "      <td>0.0</td>\n",
       "      <td>1.0</td>\n",
       "      <td>1.0</td>\n",
       "      <td>0.0</td>\n",
       "      <td>0.0</td>\n",
       "      <td>0.0</td>\n",
       "      <td>0.0</td>\n",
       "    </tr>\n",
       "    <tr>\n",
       "      <th>5</th>\n",
       "      <td>60</td>\n",
       "      <td>14260</td>\n",
       "      <td>1</td>\n",
       "      <td>2</td>\n",
       "      <td>3</td>\n",
       "      <td>8</td>\n",
       "      <td>5</td>\n",
       "      <td>2000</td>\n",
       "      <td>2000</td>\n",
       "      <td>350.0</td>\n",
       "      <td>...</td>\n",
       "      <td>1.0</td>\n",
       "      <td>0.0</td>\n",
       "      <td>0.0</td>\n",
       "      <td>0.0</td>\n",
       "      <td>0.0</td>\n",
       "      <td>0.0</td>\n",
       "      <td>0.0</td>\n",
       "      <td>1.0</td>\n",
       "      <td>0.0</td>\n",
       "      <td>0.0</td>\n",
       "    </tr>\n",
       "    <tr>\n",
       "      <th>...</th>\n",
       "      <td>...</td>\n",
       "      <td>...</td>\n",
       "      <td>...</td>\n",
       "      <td>...</td>\n",
       "      <td>...</td>\n",
       "      <td>...</td>\n",
       "      <td>...</td>\n",
       "      <td>...</td>\n",
       "      <td>...</td>\n",
       "      <td>...</td>\n",
       "      <td>...</td>\n",
       "      <td>...</td>\n",
       "      <td>...</td>\n",
       "      <td>...</td>\n",
       "      <td>...</td>\n",
       "      <td>...</td>\n",
       "      <td>...</td>\n",
       "      <td>...</td>\n",
       "      <td>...</td>\n",
       "      <td>...</td>\n",
       "      <td>...</td>\n",
       "    </tr>\n",
       "    <tr>\n",
       "      <th>1456</th>\n",
       "      <td>60</td>\n",
       "      <td>7917</td>\n",
       "      <td>1</td>\n",
       "      <td>3</td>\n",
       "      <td>3</td>\n",
       "      <td>6</td>\n",
       "      <td>5</td>\n",
       "      <td>1999</td>\n",
       "      <td>2000</td>\n",
       "      <td>0.0</td>\n",
       "      <td>...</td>\n",
       "      <td>1.0</td>\n",
       "      <td>0.0</td>\n",
       "      <td>0.0</td>\n",
       "      <td>0.0</td>\n",
       "      <td>0.0</td>\n",
       "      <td>0.0</td>\n",
       "      <td>0.0</td>\n",
       "      <td>0.0</td>\n",
       "      <td>0.0</td>\n",
       "      <td>1.0</td>\n",
       "    </tr>\n",
       "    <tr>\n",
       "      <th>1457</th>\n",
       "      <td>20</td>\n",
       "      <td>13175</td>\n",
       "      <td>1</td>\n",
       "      <td>3</td>\n",
       "      <td>3</td>\n",
       "      <td>6</td>\n",
       "      <td>6</td>\n",
       "      <td>1978</td>\n",
       "      <td>1988</td>\n",
       "      <td>119.0</td>\n",
       "      <td>...</td>\n",
       "      <td>0.0</td>\n",
       "      <td>0.0</td>\n",
       "      <td>0.0</td>\n",
       "      <td>0.0</td>\n",
       "      <td>0.0</td>\n",
       "      <td>0.0</td>\n",
       "      <td>0.0</td>\n",
       "      <td>0.0</td>\n",
       "      <td>0.0</td>\n",
       "      <td>1.0</td>\n",
       "    </tr>\n",
       "    <tr>\n",
       "      <th>1458</th>\n",
       "      <td>70</td>\n",
       "      <td>9042</td>\n",
       "      <td>1</td>\n",
       "      <td>3</td>\n",
       "      <td>3</td>\n",
       "      <td>7</td>\n",
       "      <td>9</td>\n",
       "      <td>1941</td>\n",
       "      <td>2006</td>\n",
       "      <td>0.0</td>\n",
       "      <td>...</td>\n",
       "      <td>1.0</td>\n",
       "      <td>0.0</td>\n",
       "      <td>1.0</td>\n",
       "      <td>0.0</td>\n",
       "      <td>0.0</td>\n",
       "      <td>0.0</td>\n",
       "      <td>0.0</td>\n",
       "      <td>0.0</td>\n",
       "      <td>0.0</td>\n",
       "      <td>1.0</td>\n",
       "    </tr>\n",
       "    <tr>\n",
       "      <th>1459</th>\n",
       "      <td>20</td>\n",
       "      <td>9717</td>\n",
       "      <td>1</td>\n",
       "      <td>3</td>\n",
       "      <td>3</td>\n",
       "      <td>5</td>\n",
       "      <td>6</td>\n",
       "      <td>1950</td>\n",
       "      <td>1996</td>\n",
       "      <td>0.0</td>\n",
       "      <td>...</td>\n",
       "      <td>1.0</td>\n",
       "      <td>0.0</td>\n",
       "      <td>0.0</td>\n",
       "      <td>0.0</td>\n",
       "      <td>0.0</td>\n",
       "      <td>0.0</td>\n",
       "      <td>0.0</td>\n",
       "      <td>0.0</td>\n",
       "      <td>0.0</td>\n",
       "      <td>1.0</td>\n",
       "    </tr>\n",
       "    <tr>\n",
       "      <th>1460</th>\n",
       "      <td>20</td>\n",
       "      <td>9937</td>\n",
       "      <td>1</td>\n",
       "      <td>3</td>\n",
       "      <td>3</td>\n",
       "      <td>5</td>\n",
       "      <td>6</td>\n",
       "      <td>1965</td>\n",
       "      <td>1965</td>\n",
       "      <td>0.0</td>\n",
       "      <td>...</td>\n",
       "      <td>1.0</td>\n",
       "      <td>0.0</td>\n",
       "      <td>0.0</td>\n",
       "      <td>0.0</td>\n",
       "      <td>0.0</td>\n",
       "      <td>0.0</td>\n",
       "      <td>0.0</td>\n",
       "      <td>0.0</td>\n",
       "      <td>0.0</td>\n",
       "      <td>1.0</td>\n",
       "    </tr>\n",
       "  </tbody>\n",
       "</table>\n",
       "<p>1460 rows × 198 columns</p>\n",
       "</div>"
      ],
      "text/plain": [
       "      MSSubClass  LotArea  Street  LotShape  Utilities  OverallQual  \\\n",
       "Id                                                                    \n",
       "1             60     8450       1         3          3            7   \n",
       "2             20     9600       1         3          3            6   \n",
       "3             60    11250       1         2          3            7   \n",
       "4             70     9550       1         2          3            7   \n",
       "5             60    14260       1         2          3            8   \n",
       "...          ...      ...     ...       ...        ...          ...   \n",
       "1456          60     7917       1         3          3            6   \n",
       "1457          20    13175       1         3          3            6   \n",
       "1458          70     9042       1         3          3            7   \n",
       "1459          20     9717       1         3          3            5   \n",
       "1460          20     9937       1         3          3            5   \n",
       "\n",
       "      OverallCond  YearBuilt  YearRemodAdd  MasVnrArea  ...  Typ  Brk Cmn  \\\n",
       "Id                                                      ...                 \n",
       "1               5       2003          2003       196.0  ...  1.0      0.0   \n",
       "2               8       1976          1976         0.0  ...  1.0      0.0   \n",
       "3               5       2001          2002       162.0  ...  1.0      0.0   \n",
       "4               5       1915          1970         0.0  ...  1.0      0.0   \n",
       "5               5       2000          2000       350.0  ...  1.0      0.0   \n",
       "...           ...        ...           ...         ...  ...  ...      ...   \n",
       "1456            5       1999          2000         0.0  ...  1.0      0.0   \n",
       "1457            6       1978          1988       119.0  ...  0.0      0.0   \n",
       "1458            9       1941          2006         0.0  ...  1.0      0.0   \n",
       "1459            6       1950          1996         0.0  ...  1.0      0.0   \n",
       "1460            6       1965          1965         0.0  ...  1.0      0.0   \n",
       "\n",
       "      CmentBd  Other  Wd Shng  Corner  CulDSac  FR2  FR3  Inside  \n",
       "Id                                                                \n",
       "1         0.0    0.0      0.0     0.0      0.0  0.0  0.0     1.0  \n",
       "2         0.0    0.0      0.0     0.0      0.0  1.0  0.0     0.0  \n",
       "3         0.0    0.0      0.0     0.0      0.0  0.0  0.0     1.0  \n",
       "4         0.0    0.0      1.0     1.0      0.0  0.0  0.0     0.0  \n",
       "5         0.0    0.0      0.0     0.0      0.0  1.0  0.0     0.0  \n",
       "...       ...    ...      ...     ...      ...  ...  ...     ...  \n",
       "1456      0.0    0.0      0.0     0.0      0.0  0.0  0.0     1.0  \n",
       "1457      0.0    0.0      0.0     0.0      0.0  0.0  0.0     1.0  \n",
       "1458      1.0    0.0      0.0     0.0      0.0  0.0  0.0     1.0  \n",
       "1459      0.0    0.0      0.0     0.0      0.0  0.0  0.0     1.0  \n",
       "1460      0.0    0.0      0.0     0.0      0.0  0.0  0.0     1.0  \n",
       "\n",
       "[1460 rows x 198 columns]"
      ]
     },
     "execution_count": 623,
     "metadata": {},
     "output_type": "execute_result"
    }
   ],
   "source": [
    "X_full"
   ]
  },
  {
   "cell_type": "code",
   "execution_count": 624,
   "metadata": {
    "execution": {
     "iopub.execute_input": "2022-03-31T20:12:45.952675Z",
     "iopub.status.busy": "2022-03-31T20:12:45.952151Z",
     "iopub.status.idle": "2022-03-31T20:12:45.964285Z",
     "shell.execute_reply": "2022-03-31T20:12:45.963562Z",
     "shell.execute_reply.started": "2022-03-31T20:12:45.952639Z"
    }
   },
   "outputs": [
    {
     "data": {
      "text/plain": [
       "['MasVnrArea']"
      ]
     },
     "execution_count": 624,
     "metadata": {},
     "output_type": "execute_result"
    }
   ],
   "source": [
    "X_full.columns[X_full.isna().any()].tolist()"
   ]
  },
  {
   "cell_type": "code",
   "execution_count": 625,
   "metadata": {},
   "outputs": [
    {
     "name": "stdout",
     "output_type": "stream",
     "text": [
      "<class 'pandas.core.frame.DataFrame'>\n",
      "Int64Index: 1460 entries, 1 to 1460\n",
      "Data columns (total 1 columns):\n",
      " #   Column      Non-Null Count  Dtype  \n",
      "---  ------      --------------  -----  \n",
      " 0   MasVnrArea  1452 non-null   float64\n",
      "dtypes: float64(1)\n",
      "memory usage: 22.8 KB\n"
     ]
    }
   ],
   "source": [
    "X_full[['MasVnrArea']].info()"
   ]
  },
  {
   "cell_type": "code",
   "execution_count": 626,
   "metadata": {
    "execution": {
     "iopub.execute_input": "2022-03-31T20:14:06.092357Z",
     "iopub.status.busy": "2022-03-31T20:14:06.092047Z",
     "iopub.status.idle": "2022-03-31T20:14:06.631536Z",
     "shell.execute_reply": "2022-03-31T20:14:06.630928Z",
     "shell.execute_reply.started": "2022-03-31T20:14:06.092324Z"
    }
   },
   "outputs": [
    {
     "data": {
      "text/plain": [
       "<AxesSubplot:>"
      ]
     },
     "execution_count": 626,
     "metadata": {},
     "output_type": "execute_result"
    },
    {
     "data": {
      "image/png": "[encoded data removed]",
      "text/plain": [
       "<Figure size 1080x360 with 1 Axes>"
      ]
     },
     "metadata": {
      "needs_background": "light"
     },
     "output_type": "display_data"
    }
   ],
   "source": [
    "X_full['MasVnrArea'].hist(figsize=(15,5))"
   ]
  },
  {
   "cell_type": "code",
   "execution_count": 627,
   "metadata": {
    "execution": {
     "iopub.execute_input": "2022-03-31T20:19:38.194005Z",
     "iopub.status.busy": "2022-03-31T20:19:38.193733Z",
     "iopub.status.idle": "2022-03-31T20:19:38.201417Z",
     "shell.execute_reply": "2022-03-31T20:19:38.200355Z",
     "shell.execute_reply.started": "2022-03-31T20:19:38.193977Z"
    }
   },
   "outputs": [],
   "source": [
    "X_full['MasVnrArea'].fillna(X_full['MasVnrArea'].median(),inplace=True)"
   ]
  },
  {
   "cell_type": "code",
   "execution_count": 628,
   "metadata": {
    "execution": {
     "iopub.execute_input": "2022-03-31T20:19:41.771365Z",
     "iopub.status.busy": "2022-03-31T20:19:41.770383Z",
     "iopub.status.idle": "2022-03-31T20:19:41.780142Z",
     "shell.execute_reply": "2022-03-31T20:19:41.779131Z",
     "shell.execute_reply.started": "2022-03-31T20:19:41.771313Z"
    }
   },
   "outputs": [],
   "source": [
    "y=X_full['SalePrice']\n",
    "X=X_full.drop('SalePrice',axis=1)"
   ]
  },
  {
   "cell_type": "code",
   "execution_count": 629,
   "metadata": {
    "execution": {
     "iopub.execute_input": "2022-03-31T20:19:43.032917Z",
     "iopub.status.busy": "2022-03-31T20:19:43.032038Z",
     "iopub.status.idle": "2022-03-31T20:19:43.071080Z",
     "shell.execute_reply": "2022-03-31T20:19:43.070191Z",
     "shell.execute_reply.started": "2022-03-31T20:19:43.032876Z"
    }
   },
   "outputs": [
    {
     "data": {
      "text/html": [
       "<div>\n",
       "<style scoped>\n",
       "    .dataframe tbody tr th:only-of-type {\n",
       "        vertical-align: middle;\n",
       "    }\n",
       "\n",
       "    .dataframe tbody tr th {\n",
       "        vertical-align: top;\n",
       "    }\n",
       "\n",
       "    .dataframe thead th {\n",
       "        text-align: right;\n",
       "    }\n",
       "</style>\n",
       "<table border=\"1\" class=\"dataframe\">\n",
       "  <thead>\n",
       "    <tr style=\"text-align: right;\">\n",
       "      <th></th>\n",
       "      <th>MSSubClass</th>\n",
       "      <th>LotArea</th>\n",
       "      <th>Street</th>\n",
       "      <th>LotShape</th>\n",
       "      <th>Utilities</th>\n",
       "      <th>OverallQual</th>\n",
       "      <th>OverallCond</th>\n",
       "      <th>YearBuilt</th>\n",
       "      <th>YearRemodAdd</th>\n",
       "      <th>MasVnrArea</th>\n",
       "      <th>...</th>\n",
       "      <th>Typ</th>\n",
       "      <th>Brk Cmn</th>\n",
       "      <th>CmentBd</th>\n",
       "      <th>Other</th>\n",
       "      <th>Wd Shng</th>\n",
       "      <th>Corner</th>\n",
       "      <th>CulDSac</th>\n",
       "      <th>FR2</th>\n",
       "      <th>FR3</th>\n",
       "      <th>Inside</th>\n",
       "    </tr>\n",
       "    <tr>\n",
       "      <th>Id</th>\n",
       "      <th></th>\n",
       "      <th></th>\n",
       "      <th></th>\n",
       "      <th></th>\n",
       "      <th></th>\n",
       "      <th></th>\n",
       "      <th></th>\n",
       "      <th></th>\n",
       "      <th></th>\n",
       "      <th></th>\n",
       "      <th></th>\n",
       "      <th></th>\n",
       "      <th></th>\n",
       "      <th></th>\n",
       "      <th></th>\n",
       "      <th></th>\n",
       "      <th></th>\n",
       "      <th></th>\n",
       "      <th></th>\n",
       "      <th></th>\n",
       "      <th></th>\n",
       "    </tr>\n",
       "  </thead>\n",
       "  <tbody>\n",
       "    <tr>\n",
       "      <th>1</th>\n",
       "      <td>60</td>\n",
       "      <td>8450</td>\n",
       "      <td>1</td>\n",
       "      <td>3</td>\n",
       "      <td>3</td>\n",
       "      <td>7</td>\n",
       "      <td>5</td>\n",
       "      <td>2003</td>\n",
       "      <td>2003</td>\n",
       "      <td>196.0</td>\n",
       "      <td>...</td>\n",
       "      <td>1.0</td>\n",
       "      <td>0.0</td>\n",
       "      <td>0.0</td>\n",
       "      <td>0.0</td>\n",
       "      <td>0.0</td>\n",
       "      <td>0.0</td>\n",
       "      <td>0.0</td>\n",
       "      <td>0.0</td>\n",
       "      <td>0.0</td>\n",
       "      <td>1.0</td>\n",
       "    </tr>\n",
       "    <tr>\n",
       "      <th>2</th>\n",
       "      <td>20</td>\n",
       "      <td>9600</td>\n",
       "      <td>1</td>\n",
       "      <td>3</td>\n",
       "      <td>3</td>\n",
       "      <td>6</td>\n",
       "      <td>8</td>\n",
       "      <td>1976</td>\n",
       "      <td>1976</td>\n",
       "      <td>0.0</td>\n",
       "      <td>...</td>\n",
       "      <td>1.0</td>\n",
       "      <td>0.0</td>\n",
       "      <td>0.0</td>\n",
       "      <td>0.0</td>\n",
       "      <td>0.0</td>\n",
       "      <td>0.0</td>\n",
       "      <td>0.0</td>\n",
       "      <td>1.0</td>\n",
       "      <td>0.0</td>\n",
       "      <td>0.0</td>\n",
       "    </tr>\n",
       "    <tr>\n",
       "      <th>3</th>\n",
       "      <td>60</td>\n",
       "      <td>11250</td>\n",
       "      <td>1</td>\n",
       "      <td>2</td>\n",
       "      <td>3</td>\n",
       "      <td>7</td>\n",
       "      <td>5</td>\n",
       "      <td>2001</td>\n",
       "      <td>2002</td>\n",
       "      <td>162.0</td>\n",
       "      <td>...</td>\n",
       "      <td>1.0</td>\n",
       "      <td>0.0</td>\n",
       "      <td>0.0</td>\n",
       "      <td>0.0</td>\n",
       "      <td>0.0</td>\n",
       "      <td>0.0</td>\n",
       "      <td>0.0</td>\n",
       "      <td>0.0</td>\n",
       "      <td>0.0</td>\n",
       "      <td>1.0</td>\n",
       "    </tr>\n",
       "    <tr>\n",
       "      <th>4</th>\n",
       "      <td>70</td>\n",
       "      <td>9550</td>\n",
       "      <td>1</td>\n",
       "      <td>2</td>\n",
       "      <td>3</td>\n",
       "      <td>7</td>\n",
       "      <td>5</td>\n",
       "      <td>1915</td>\n",
       "      <td>1970</td>\n",
       "      <td>0.0</td>\n",
       "      <td>...</td>\n",
       "      <td>1.0</td>\n",
       "      <td>0.0</td>\n",
       "      <td>0.0</td>\n",
       "      <td>0.0</td>\n",
       "      <td>1.0</td>\n",
       "      <td>1.0</td>\n",
       "      <td>0.0</td>\n",
       "      <td>0.0</td>\n",
       "      <td>0.0</td>\n",
       "      <td>0.0</td>\n",
       "    </tr>\n",
       "    <tr>\n",
       "      <th>5</th>\n",
       "      <td>60</td>\n",
       "      <td>14260</td>\n",
       "      <td>1</td>\n",
       "      <td>2</td>\n",
       "      <td>3</td>\n",
       "      <td>8</td>\n",
       "      <td>5</td>\n",
       "      <td>2000</td>\n",
       "      <td>2000</td>\n",
       "      <td>350.0</td>\n",
       "      <td>...</td>\n",
       "      <td>1.0</td>\n",
       "      <td>0.0</td>\n",
       "      <td>0.0</td>\n",
       "      <td>0.0</td>\n",
       "      <td>0.0</td>\n",
       "      <td>0.0</td>\n",
       "      <td>0.0</td>\n",
       "      <td>1.0</td>\n",
       "      <td>0.0</td>\n",
       "      <td>0.0</td>\n",
       "    </tr>\n",
       "    <tr>\n",
       "      <th>...</th>\n",
       "      <td>...</td>\n",
       "      <td>...</td>\n",
       "      <td>...</td>\n",
       "      <td>...</td>\n",
       "      <td>...</td>\n",
       "      <td>...</td>\n",
       "      <td>...</td>\n",
       "      <td>...</td>\n",
       "      <td>...</td>\n",
       "      <td>...</td>\n",
       "      <td>...</td>\n",
       "      <td>...</td>\n",
       "      <td>...</td>\n",
       "      <td>...</td>\n",
       "      <td>...</td>\n",
       "      <td>...</td>\n",
       "      <td>...</td>\n",
       "      <td>...</td>\n",
       "      <td>...</td>\n",
       "      <td>...</td>\n",
       "      <td>...</td>\n",
       "    </tr>\n",
       "    <tr>\n",
       "      <th>1456</th>\n",
       "      <td>60</td>\n",
       "      <td>7917</td>\n",
       "      <td>1</td>\n",
       "      <td>3</td>\n",
       "      <td>3</td>\n",
       "      <td>6</td>\n",
       "      <td>5</td>\n",
       "      <td>1999</td>\n",
       "      <td>2000</td>\n",
       "      <td>0.0</td>\n",
       "      <td>...</td>\n",
       "      <td>1.0</td>\n",
       "      <td>0.0</td>\n",
       "      <td>0.0</td>\n",
       "      <td>0.0</td>\n",
       "      <td>0.0</td>\n",
       "      <td>0.0</td>\n",
       "      <td>0.0</td>\n",
       "      <td>0.0</td>\n",
       "      <td>0.0</td>\n",
       "      <td>1.0</td>\n",
       "    </tr>\n",
       "    <tr>\n",
       "      <th>1457</th>\n",
       "      <td>20</td>\n",
       "      <td>13175</td>\n",
       "      <td>1</td>\n",
       "      <td>3</td>\n",
       "      <td>3</td>\n",
       "      <td>6</td>\n",
       "      <td>6</td>\n",
       "      <td>1978</td>\n",
       "      <td>1988</td>\n",
       "      <td>119.0</td>\n",
       "      <td>...</td>\n",
       "      <td>0.0</td>\n",
       "      <td>0.0</td>\n",
       "      <td>0.0</td>\n",
       "      <td>0.0</td>\n",
       "      <td>0.0</td>\n",
       "      <td>0.0</td>\n",
       "      <td>0.0</td>\n",
       "      <td>0.0</td>\n",
       "      <td>0.0</td>\n",
       "      <td>1.0</td>\n",
       "    </tr>\n",
       "    <tr>\n",
       "      <th>1458</th>\n",
       "      <td>70</td>\n",
       "      <td>9042</td>\n",
       "      <td>1</td>\n",
       "      <td>3</td>\n",
       "      <td>3</td>\n",
       "      <td>7</td>\n",
       "      <td>9</td>\n",
       "      <td>1941</td>\n",
       "      <td>2006</td>\n",
       "      <td>0.0</td>\n",
       "      <td>...</td>\n",
       "      <td>1.0</td>\n",
       "      <td>0.0</td>\n",
       "      <td>1.0</td>\n",
       "      <td>0.0</td>\n",
       "      <td>0.0</td>\n",
       "      <td>0.0</td>\n",
       "      <td>0.0</td>\n",
       "      <td>0.0</td>\n",
       "      <td>0.0</td>\n",
       "      <td>1.0</td>\n",
       "    </tr>\n",
       "    <tr>\n",
       "      <th>1459</th>\n",
       "      <td>20</td>\n",
       "      <td>9717</td>\n",
       "      <td>1</td>\n",
       "      <td>3</td>\n",
       "      <td>3</td>\n",
       "      <td>5</td>\n",
       "      <td>6</td>\n",
       "      <td>1950</td>\n",
       "      <td>1996</td>\n",
       "      <td>0.0</td>\n",
       "      <td>...</td>\n",
       "      <td>1.0</td>\n",
       "      <td>0.0</td>\n",
       "      <td>0.0</td>\n",
       "      <td>0.0</td>\n",
       "      <td>0.0</td>\n",
       "      <td>0.0</td>\n",
       "      <td>0.0</td>\n",
       "      <td>0.0</td>\n",
       "      <td>0.0</td>\n",
       "      <td>1.0</td>\n",
       "    </tr>\n",
       "    <tr>\n",
       "      <th>1460</th>\n",
       "      <td>20</td>\n",
       "      <td>9937</td>\n",
       "      <td>1</td>\n",
       "      <td>3</td>\n",
       "      <td>3</td>\n",
       "      <td>5</td>\n",
       "      <td>6</td>\n",
       "      <td>1965</td>\n",
       "      <td>1965</td>\n",
       "      <td>0.0</td>\n",
       "      <td>...</td>\n",
       "      <td>1.0</td>\n",
       "      <td>0.0</td>\n",
       "      <td>0.0</td>\n",
       "      <td>0.0</td>\n",
       "      <td>0.0</td>\n",
       "      <td>0.0</td>\n",
       "      <td>0.0</td>\n",
       "      <td>0.0</td>\n",
       "      <td>0.0</td>\n",
       "      <td>1.0</td>\n",
       "    </tr>\n",
       "  </tbody>\n",
       "</table>\n",
       "<p>1460 rows × 197 columns</p>\n",
       "</div>"
      ],
      "text/plain": [
       "      MSSubClass  LotArea  Street  LotShape  Utilities  OverallQual  \\\n",
       "Id                                                                    \n",
       "1             60     8450       1         3          3            7   \n",
       "2             20     9600       1         3          3            6   \n",
       "3             60    11250       1         2          3            7   \n",
       "4             70     9550       1         2          3            7   \n",
       "5             60    14260       1         2          3            8   \n",
       "...          ...      ...     ...       ...        ...          ...   \n",
       "1456          60     7917       1         3          3            6   \n",
       "1457          20    13175       1         3          3            6   \n",
       "1458          70     9042       1         3          3            7   \n",
       "1459          20     9717       1         3          3            5   \n",
       "1460          20     9937       1         3          3            5   \n",
       "\n",
       "      OverallCond  YearBuilt  YearRemodAdd  MasVnrArea  ...  Typ  Brk Cmn  \\\n",
       "Id                                                      ...                 \n",
       "1               5       2003          2003       196.0  ...  1.0      0.0   \n",
       "2               8       1976          1976         0.0  ...  1.0      0.0   \n",
       "3               5       2001          2002       162.0  ...  1.0      0.0   \n",
       "4               5       1915          1970         0.0  ...  1.0      0.0   \n",
       "5               5       2000          2000       350.0  ...  1.0      0.0   \n",
       "...           ...        ...           ...         ...  ...  ...      ...   \n",
       "1456            5       1999          2000         0.0  ...  1.0      0.0   \n",
       "1457            6       1978          1988       119.0  ...  0.0      0.0   \n",
       "1458            9       1941          2006         0.0  ...  1.0      0.0   \n",
       "1459            6       1950          1996         0.0  ...  1.0      0.0   \n",
       "1460            6       1965          1965         0.0  ...  1.0      0.0   \n",
       "\n",
       "      CmentBd  Other  Wd Shng  Corner  CulDSac  FR2  FR3  Inside  \n",
       "Id                                                                \n",
       "1         0.0    0.0      0.0     0.0      0.0  0.0  0.0     1.0  \n",
       "2         0.0    0.0      0.0     0.0      0.0  1.0  0.0     0.0  \n",
       "3         0.0    0.0      0.0     0.0      0.0  0.0  0.0     1.0  \n",
       "4         0.0    0.0      1.0     1.0      0.0  0.0  0.0     0.0  \n",
       "5         0.0    0.0      0.0     0.0      0.0  1.0  0.0     0.0  \n",
       "...       ...    ...      ...     ...      ...  ...  ...     ...  \n",
       "1456      0.0    0.0      0.0     0.0      0.0  0.0  0.0     1.0  \n",
       "1457      0.0    0.0      0.0     0.0      0.0  0.0  0.0     1.0  \n",
       "1458      1.0    0.0      0.0     0.0      0.0  0.0  0.0     1.0  \n",
       "1459      0.0    0.0      0.0     0.0      0.0  0.0  0.0     1.0  \n",
       "1460      0.0    0.0      0.0     0.0      0.0  0.0  0.0     1.0  \n",
       "\n",
       "[1460 rows x 197 columns]"
      ]
     },
     "execution_count": 629,
     "metadata": {},
     "output_type": "execute_result"
    }
   ],
   "source": [
    "X"
   ]
  },
  {
   "cell_type": "code",
   "execution_count": 630,
   "metadata": {
    "execution": {
     "iopub.execute_input": "2022-03-31T20:19:47.230234Z",
     "iopub.status.busy": "2022-03-31T20:19:47.229648Z",
     "iopub.status.idle": "2022-03-31T20:19:47.239085Z",
     "shell.execute_reply": "2022-03-31T20:19:47.238343Z",
     "shell.execute_reply.started": "2022-03-31T20:19:47.230183Z"
    }
   },
   "outputs": [],
   "source": [
    "from sklearn.model_selection import train_test_split\n",
    "X_train,X_test,y_train,y_test=train_test_split(X,y,test_size=0.3,random_state=42)"
   ]
  },
  {
   "cell_type": "code",
   "execution_count": 631,
   "metadata": {
    "execution": {
     "iopub.execute_input": "2022-03-31T20:19:48.399555Z",
     "iopub.status.busy": "2022-03-31T20:19:48.399055Z",
     "iopub.status.idle": "2022-03-31T20:19:48.464891Z",
     "shell.execute_reply": "2022-03-31T20:19:48.463994Z",
     "shell.execute_reply.started": "2022-03-31T20:19:48.399496Z"
    }
   },
   "outputs": [
    {
     "data": {
      "text/plain": [
       "LinearRegression()"
      ]
     },
     "execution_count": 631,
     "metadata": {},
     "output_type": "execute_result"
    }
   ],
   "source": [
    "from sklearn.linear_model import LinearRegression\n",
    "lr=LinearRegression()\n",
    "lr.fit(X_train,y_train)"
   ]
  },
  {
   "cell_type": "code",
   "execution_count": 632,
   "metadata": {
    "execution": {
     "iopub.execute_input": "2022-03-31T20:20:07.960710Z",
     "iopub.status.busy": "2022-03-31T20:20:07.960425Z",
     "iopub.status.idle": "2022-03-31T20:20:07.979349Z",
     "shell.execute_reply": "2022-03-31T20:20:07.978213Z",
     "shell.execute_reply.started": "2022-03-31T20:20:07.960673Z"
    }
   },
   "outputs": [],
   "source": [
    "preds=lr.predict(X_test)"
   ]
  },
  {
   "cell_type": "code",
   "execution_count": 633,
   "metadata": {
    "execution": {
     "iopub.execute_input": "2022-03-31T20:21:13.346052Z",
     "iopub.status.busy": "2022-03-31T20:21:13.345768Z",
     "iopub.status.idle": "2022-03-31T20:21:13.352351Z",
     "shell.execute_reply": "2022-03-31T20:21:13.351693Z",
     "shell.execute_reply.started": "2022-03-31T20:21:13.346019Z"
    }
   },
   "outputs": [
    {
     "data": {
      "text/plain": [
       "0.03007478180244276"
      ]
     },
     "execution_count": 633,
     "metadata": {},
     "output_type": "execute_result"
    }
   ],
   "source": [
    "from sklearn.metrics import mean_squared_error\n",
    "mean_squared_error(np.log(y_test),np.log(preds))"
   ]
  },
  {
   "cell_type": "code",
   "execution_count": 670,
   "metadata": {},
   "outputs": [],
   "source": [
    "from sklearn.ensemble import RandomForestRegressor\n",
    "rf=RandomForestRegressor()\n",
    "rf.fit(X_train,y_train)\n",
    "preds=rf.predict(X_test)"
   ]
  },
  {
   "cell_type": "code",
   "execution_count": 671,
   "metadata": {},
   "outputs": [
    {
     "data": {
      "text/plain": [
       "0.020054550230248786"
      ]
     },
     "execution_count": 671,
     "metadata": {},
     "output_type": "execute_result"
    }
   ],
   "source": [
    "mean_squared_error(np.log(y_test),np.log(preds))"
   ]
  },
  {
   "cell_type": "code",
   "execution_count": 682,
   "metadata": {},
   "outputs": [
    {
     "data": {
      "text/plain": [
       "{'bootstrap': True,\n",
       " 'ccp_alpha': 0.0,\n",
       " 'criterion': 'mse',\n",
       " 'max_depth': None,\n",
       " 'max_features': 'auto',\n",
       " 'max_leaf_nodes': None,\n",
       " 'max_samples': None,\n",
       " 'min_impurity_decrease': 0.0,\n",
       " 'min_impurity_split': None,\n",
       " 'min_samples_leaf': 1,\n",
       " 'min_samples_split': 2,\n",
       " 'min_weight_fraction_leaf': 0.0,\n",
       " 'n_estimators': 100,\n",
       " 'n_jobs': None,\n",
       " 'oob_score': False,\n",
       " 'random_state': None,\n",
       " 'verbose': 0,\n",
       " 'warm_start': False}"
      ]
     },
     "execution_count": 682,
     "metadata": {},
     "output_type": "execute_result"
    }
   ],
   "source": [
    "rf.get_params()"
   ]
  },
  {
   "cell_type": "code",
   "execution_count": 683,
   "metadata": {},
   "outputs": [],
   "source": [
    "from sklearn.model_selection import RandomizedSearchCV\n",
    "\n",
    "n_estimators = [int(x) for x in np.linspace(start = 200, stop = 2000, num = 10)]\n",
    "\n",
    "max_features = ['auto', 'sqrt']\n",
    "\n",
    "max_depth = [int(x) for x in np.linspace(10, 110, num = 11)]\n",
    "max_depth.append(None)\n",
    "\n",
    "min_samples_split = [2, 5, 10]\n",
    "\n",
    "min_samples_leaf = [1, 2, 4]\n",
    "\n",
    "bootstrap = [True, False]\n",
    "\n",
    "random_grid = {'n_estimators': n_estimators,\n",
    "               'max_features': max_features,\n",
    "               'max_depth': max_depth,\n",
    "               'min_samples_split': min_samples_split,\n",
    "               'min_samples_leaf': min_samples_leaf,\n",
    "               'bootstrap': bootstrap}\n"
   ]
  },
  {
   "cell_type": "code",
   "execution_count": 684,
   "metadata": {},
   "outputs": [
    {
     "name": "stdout",
     "output_type": "stream",
     "text": [
      "Fitting 3 folds for each of 100 candidates, totalling 300 fits\n"
     ]
    },
    {
     "name": "stderr",
     "output_type": "stream",
     "text": [
      "[Parallel(n_jobs=-1)]: Using backend LokyBackend with 4 concurrent workers.\n",
      "[Parallel(n_jobs=-1)]: Done  33 tasks      | elapsed:  1.4min\n",
      "[Parallel(n_jobs=-1)]: Done 154 tasks      | elapsed:  6.7min\n",
      "[Parallel(n_jobs=-1)]: Done 300 out of 300 | elapsed: 13.4min finished\n"
     ]
    },
    {
     "data": {
      "text/plain": [
       "RandomizedSearchCV(cv=3, estimator=RandomForestRegressor(), n_iter=100,\n",
       "                   n_jobs=-1,\n",
       "                   param_distributions={'bootstrap': [True, False],\n",
       "                                        'max_depth': [10, 20, 30, 40, 50, 60,\n",
       "                                                      70, 80, 90, 100, 110,\n",
       "                                                      None],\n",
       "                                        'max_features': ['auto', 'sqrt'],\n",
       "                                        'min_samples_leaf': [1, 2, 4],\n",
       "                                        'min_samples_split': [2, 5, 10],\n",
       "                                        'n_estimators': [200, 400, 600, 800,\n",
       "                                                         1000, 1200, 1400, 1600,\n",
       "                                                         1800, 2000]},\n",
       "                   random_state=42, verbose=2)"
      ]
     },
     "execution_count": 684,
     "metadata": {},
     "output_type": "execute_result"
    }
   ],
   "source": [
    "\n",
    "rf_random = RandomizedSearchCV(estimator = rf, param_distributions = random_grid, n_iter = 100, cv = 3, verbose=2, random_state=42, n_jobs = -1)\n",
    "# Fit the random search model\n",
    "rf_random.fit(X_train, y_train)"
   ]
  },
  {
   "cell_type": "code",
   "execution_count": 685,
   "metadata": {},
   "outputs": [
    {
     "data": {
      "text/plain": [
       "{'n_estimators': 400,\n",
       " 'min_samples_split': 2,\n",
       " 'min_samples_leaf': 1,\n",
       " 'max_features': 'sqrt',\n",
       " 'max_depth': None,\n",
       " 'bootstrap': False}"
      ]
     },
     "execution_count": 685,
     "metadata": {},
     "output_type": "execute_result"
    }
   ],
   "source": [
    "rf_random.best_params_"
   ]
  },
  {
   "cell_type": "code",
   "execution_count": 687,
   "metadata": {},
   "outputs": [
    {
     "data": {
      "text/plain": [
       "0.020354329553025168"
      ]
     },
     "execution_count": 687,
     "metadata": {},
     "output_type": "execute_result"
    }
   ],
   "source": [
    "rff=rf_random.best_estimator_\n",
    "preds=rff.predict(X_test)\n",
    "mean_squared_error(np.log(y_test),np.log(preds))"
   ]
  },
  {
   "cell_type": "code",
   "execution_count": 676,
   "metadata": {},
   "outputs": [],
   "source": [
    "from sklearn.ensemble import GradientBoostingRegressor\n",
    "reg = GradientBoostingRegressor(random_state=0)\n",
    "reg.fit(X_train, y_train)\n",
    "preds=reg.predict(X_test)"
   ]
  },
  {
   "cell_type": "code",
   "execution_count": 677,
   "metadata": {},
   "outputs": [
    {
     "data": {
      "text/plain": [
       "0.018367980803176247"
      ]
     },
     "execution_count": 677,
     "metadata": {},
     "output_type": "execute_result"
    }
   ],
   "source": [
    "mean_squared_error(np.log(y_test),np.log(preds))"
   ]
  },
  {
   "cell_type": "code",
   "execution_count": 693,
   "metadata": {},
   "outputs": [
    {
     "data": {
      "text/plain": [
       "XGBRegressor(base_score=0.5, booster='gbtree', colsample_bylevel=1,\n",
       "             colsample_bynode=1, colsample_bytree=1, enable_categorical=False,\n",
       "             gamma=0, gpu_id=-1, importance_type=None,\n",
       "             interaction_constraints='', learning_rate=0.300000012,\n",
       "             max_delta_step=0, max_depth=6, min_child_weight=1, missing=nan,\n",
       "             monotone_constraints='()', n_estimators=100, n_jobs=4,\n",
       "             num_parallel_tree=1, predictor='auto', random_state=0, reg_alpha=0,\n",
       "             reg_lambda=1, scale_pos_weight=1, subsample=1, tree_method='exact',\n",
       "             validate_parameters=1, verbosity=None)"
      ]
     },
     "execution_count": 693,
     "metadata": {},
     "output_type": "execute_result"
    }
   ],
   "source": [
    "from xgboost import XGBRegressor\n",
    "model = XGBRegressor(objective='reg:squarederror')\n",
    "model.fit(X_train,y_train)"
   ]
  },
  {
   "cell_type": "code",
   "execution_count": 694,
   "metadata": {},
   "outputs": [
    {
     "data": {
      "text/plain": [
       "0.01790248818562999"
      ]
     },
     "execution_count": 694,
     "metadata": {},
     "output_type": "execute_result"
    }
   ],
   "source": [
    "preds=model.predict(X_test)\n",
    "mean_squared_error(np.log(y_test),np.log(preds))"
   ]
  },
  {
   "cell_type": "code",
   "execution_count": 634,
   "metadata": {},
   "outputs": [],
   "source": [
    "def preprocessing(X_full):\n",
    "    features_NA=['Alley','BsmtQual','BsmtCond','BsmtExposure','BsmtFinType1','BsmtFinType2','FireplaceQu','GarageType','GarageFinish','GarageQual','GarageCond','PoolQC','Fence']\n",
    "    from sklearn.impute import SimpleImputer\n",
    "    imp_none = SimpleImputer( strategy='constant',fill_value='None')\n",
    "    df_concat=imp_none.fit_transform(X_full[features_NA])\n",
    "    X_full[features_NA]=df_concat\n",
    "\n",
    "    \n",
    "    X_full.drop(['LotFrontage', 'GarageYrBlt', 'MiscFeature'],axis=1,inplace=True)\n",
    "    \n",
    "    \n",
    "    \n",
    "    \n",
    "    features_one_hot=['Alley','MSZoning','LandContour','Neighborhood','LandSlope','HouseStyle','RoofMatl','Exterior1st','MasVnrType','Foundation','BsmtFinType1','BsmtFinType2','Heating','GarageType','SaleType','SaleCondition','Condition1','Condition2','RoofStyle','CentralAir','BldgType','Functional','Exterior2nd','LotConfig']\n",
    "    Nans_features=X_full[features_one_hot].columns[X_full[features_one_hot].isna().any()].tolist()\n",
    "    imp = SimpleImputer(strategy='most_frequent')\n",
    "    df_concat=imp.fit_transform(X_full[Nans_features])\n",
    "    X_full[Nans_features]=df_concat\n",
    "    \n",
    "    \n",
    "    \n",
    "    en=OneHotEncoder(sparse=False)\n",
    "    for feat in features_one_hot :\n",
    "        one_hot=en.fit_transform(X_full[feat].values.reshape(-1,1))\n",
    "        dff=pd.DataFrame(one_hot,columns=en.categories_,index=X_full.index)\n",
    "        X_full[en.categories_[0]]=dff\n",
    "        X_full.drop(feat,axis=1,inplace=True)\n",
    "    \n",
    "    \n",
    "    \n",
    "    features_ordinal_enc=['LotShape','Utilities','ExterQual','ExterCond','BsmtQual','BsmtCond','BsmtExposure','HeatingQC','KitchenQual','FireplaceQu','GarageFinish','GarageQual','GarageCond','PoolQC','Electrical','Fence','Street','PavedDrive']\n",
    "    Nans_features=X_full[features_ordinal_enc].columns[X_full[features_ordinal_enc].isna().any()].tolist()\n",
    "    imp = SimpleImputer(strategy='most_frequent')\n",
    "    df_concat=imp.fit_transform(X_full[Nans_features])\n",
    "    X_full[Nans_features]=df_concat\n",
    "    \n",
    "    \n",
    "    X_full['LotShape']=X_full['LotShape'].map({\"IR3\":0,'IR2':1,\n",
    "                            'IR1':2,'Reg':3})\n",
    "    X_full['Utilities']=X_full['Utilities'].map({\"ELO\":0,\"NoSeWa\":1\n",
    "                             ,\"NoSewr\":2,\"AllPub\":3})\n",
    "    X_full['ExterQual']=X_full['ExterQual'].map({'Po':0,'Fa':1,'TA':2\n",
    "                             ,'Gd':3,'Ex':4})\n",
    "    X_full['ExterCond']=X_full['ExterCond'].map({'Po':0,'Fa':1,'TA':2\n",
    "                             ,'Gd':3,'Ex':4})\n",
    "    X_full['BsmtQual']=X_full['BsmtQual'].map({'None':0,'Po':1,'Fa':2,'TA':3\n",
    "                             ,'Gd':4,'Ex':5})\n",
    "    X_full['BsmtCond']=X_full['BsmtCond'].map({'None':0,'Po':1,'Fa':2,'TA':3\n",
    "                             ,'Gd':4,'Ex':5})\n",
    "    X_full['BsmtExposure']=X_full['BsmtExposure'].map({'None':0 ,\"No\":1,\"Mn\":2,\"Av\":3,'Gd':4 })\n",
    "\n",
    "    X_full['HeatingQC']=X_full['HeatingQC'].map({'None':0,'Po':1,'Fa':2,'TA':3\n",
    "                             ,'Gd':4,'Ex':5})\n",
    "    X_full['KitchenQual']=X_full['KitchenQual'].map({'Po':0,'Fa':1,'TA':2\n",
    "                             ,'Gd':3,'Ex':4})\n",
    "\n",
    "    X_full['FireplaceQu']=X_full['FireplaceQu'].map({'None':0,'Po':1,'Fa':2,'TA':3\n",
    "                             ,'Gd':4,'Ex':5})\n",
    "\n",
    "    X_full['GarageFinish']=X_full['GarageFinish'].map({'None':0,'Unf':1,'RFn':2,'Fin':3})\n",
    "\n",
    "    X_full['GarageQual']=X_full['GarageQual'].map({'None':0,'Po':1,'Fa':2,'TA':3\n",
    "                             ,'Gd':4,'Ex':5})\n",
    "    X_full['GarageCond']=X_full['GarageCond'].map({'None':0,'Po':1,'Fa':2,'TA':3\n",
    "                             ,'Gd':4,'Ex':5})\n",
    "    X_full['PoolQC']=X_full['PoolQC'].map({'None':0,'Po':1,'Fa':2,'TA':3\n",
    "                             ,'Gd':4,'Ex':5})\n",
    "    X_full['Electrical']=X_full['Electrical'].map({'SBrkr':4,'FuseA':3,'FuseF':2,'FuseP':1,\"Mix\":0 })\n",
    "    X_full['Fence']=X_full['Fence'].map({'None':0,'MnWw':1,'GdWo':2,'MnPrv':3,'GdPrv':4\n",
    "                                        })\n",
    "    X_full['Street']=X_full['Street'].map({'Grvl':0 , 'Pave':1})\n",
    "    X_full['PavedDrive']=X_full['PavedDrive'].map({'N':0,'P':1,'Y':2})\n",
    "    \n",
    "    X_full['MasVnrArea'].fillna(X_full['MasVnrArea'].median(),inplace=True)\n",
    "    return X_full\n",
    "    \n",
    "    \n"
   ]
  },
  {
   "cell_type": "code",
   "execution_count": 635,
   "metadata": {},
   "outputs": [],
   "source": [
    "X_test_full=preprocessing(X_test_full)"
   ]
  },
  {
   "cell_type": "code",
   "execution_count": 640,
   "metadata": {},
   "outputs": [
    {
     "data": {
      "text/plain": [
       "['BsmtFinSF1',\n",
       " 'BsmtFinSF2',\n",
       " 'BsmtUnfSF',\n",
       " 'TotalBsmtSF',\n",
       " 'BsmtFullBath',\n",
       " 'BsmtHalfBath',\n",
       " 'GarageCars',\n",
       " 'GarageArea']"
      ]
     },
     "execution_count": 640,
     "metadata": {},
     "output_type": "execute_result"
    }
   ],
   "source": [
    "X_test_full.columns[X_test_full.isna().any()].tolist()"
   ]
  },
  {
   "cell_type": "code",
   "execution_count": 660,
   "metadata": {},
   "outputs": [],
   "source": [
    "X_test_full['GarageArea'].fillna(X_test_full['GarageArea'].median(),inplace=True)\n",
    "X_test_full['GarageCars'].fillna(X_test_full['GarageCars'].median(),inplace=True)\n",
    "X_test_full['BsmtHalfBath'].fillna(X_test_full['BsmtHalfBath'].median(),inplace=True)\n",
    "X_test_full['BsmtFullBath'].fillna(X_test_full['BsmtFullBath'].median(),inplace=True)\n",
    "X_test_full['TotalBsmtSF'].fillna(X_test_full['TotalBsmtSF'].median(),inplace=True)\n",
    "X_test_full['BsmtUnfSF'].fillna(X_test_full['BsmtUnfSF'].median(),inplace=True)\n",
    "X_test_full['BsmtFinSF2'].fillna(X_test_full['BsmtFinSF2'].median(),inplace=True)\n",
    "X_test_full['BsmtFinSF1'].fillna(X_test_full['BsmtFinSF1'].median(),inplace=True)"
   ]
  },
  {
   "cell_type": "code",
   "execution_count": 661,
   "metadata": {},
   "outputs": [],
   "source": [
    "missing_features=list(set(X_train.columns)-set(X_test_full.columns))"
   ]
  },
  {
   "cell_type": "code",
   "execution_count": 662,
   "metadata": {},
   "outputs": [],
   "source": [
    "X_test_full[missing_features]=0"
   ]
  },
  {
   "cell_type": "code",
   "execution_count": 695,
   "metadata": {},
   "outputs": [],
   "source": [
    "test_preds=model.predict(X_test_full)"
   ]
  },
  {
   "cell_type": "code",
   "execution_count": 696,
   "metadata": {},
   "outputs": [
    {
     "data": {
      "text/html": [
       "<div>\n",
       "<style scoped>\n",
       "    .dataframe tbody tr th:only-of-type {\n",
       "        vertical-align: middle;\n",
       "    }\n",
       "\n",
       "    .dataframe tbody tr th {\n",
       "        vertical-align: top;\n",
       "    }\n",
       "\n",
       "    .dataframe thead th {\n",
       "        text-align: right;\n",
       "    }\n",
       "</style>\n",
       "<table border=\"1\" class=\"dataframe\">\n",
       "  <thead>\n",
       "    <tr style=\"text-align: right;\">\n",
       "      <th></th>\n",
       "      <th>SalePrice</th>\n",
       "    </tr>\n",
       "    <tr>\n",
       "      <th>Id</th>\n",
       "      <th></th>\n",
       "    </tr>\n",
       "  </thead>\n",
       "  <tbody>\n",
       "    <tr>\n",
       "      <th>1461</th>\n",
       "      <td>122508.093750</td>\n",
       "    </tr>\n",
       "    <tr>\n",
       "      <th>1462</th>\n",
       "      <td>145731.171875</td>\n",
       "    </tr>\n",
       "    <tr>\n",
       "      <th>1463</th>\n",
       "      <td>179946.859375</td>\n",
       "    </tr>\n",
       "    <tr>\n",
       "      <th>1464</th>\n",
       "      <td>194475.390625</td>\n",
       "    </tr>\n",
       "    <tr>\n",
       "      <th>1465</th>\n",
       "      <td>195269.343750</td>\n",
       "    </tr>\n",
       "    <tr>\n",
       "      <th>...</th>\n",
       "      <td>...</td>\n",
       "    </tr>\n",
       "    <tr>\n",
       "      <th>2915</th>\n",
       "      <td>84121.179688</td>\n",
       "    </tr>\n",
       "    <tr>\n",
       "      <th>2916</th>\n",
       "      <td>88996.929688</td>\n",
       "    </tr>\n",
       "    <tr>\n",
       "      <th>2917</th>\n",
       "      <td>157644.859375</td>\n",
       "    </tr>\n",
       "    <tr>\n",
       "      <th>2918</th>\n",
       "      <td>118100.828125</td>\n",
       "    </tr>\n",
       "    <tr>\n",
       "      <th>2919</th>\n",
       "      <td>218917.687500</td>\n",
       "    </tr>\n",
       "  </tbody>\n",
       "</table>\n",
       "<p>1459 rows × 1 columns</p>\n",
       "</div>"
      ],
      "text/plain": [
       "          SalePrice\n",
       "Id                 \n",
       "1461  122508.093750\n",
       "1462  145731.171875\n",
       "1463  179946.859375\n",
       "1464  194475.390625\n",
       "1465  195269.343750\n",
       "...             ...\n",
       "2915   84121.179688\n",
       "2916   88996.929688\n",
       "2917  157644.859375\n",
       "2918  118100.828125\n",
       "2919  218917.687500\n",
       "\n",
       "[1459 rows x 1 columns]"
      ]
     },
     "execution_count": 696,
     "metadata": {},
     "output_type": "execute_result"
    }
   ],
   "source": [
    "result=pd.DataFrame(test_preds,index=X_test_full.index)\n",
    "result.columns=['SalePrice']\n",
    "result"
   ]
  },
  {
   "cell_type": "code",
   "execution_count": 697,
   "metadata": {},
   "outputs": [],
   "source": [
    "result.to_csv(\"result.csv\")"
   ]
  },
  {
   "cell_type": "code",
   "execution_count": null,
   "metadata": {},
   "outputs": [],
   "source": []
  }
 ],
 "metadata": {
  "kernelspec": {
   "display_name": "Python 3",
   "language": "python",
   "name": "python3"
  },
  "language_info": {
   "codemirror_mode": {
    "name": "ipython",
    "version": 3
   },
   "file_extension": ".py",
   "mimetype": "text/x-python",
   "name": "python",
   "nbconvert_exporter": "python",
   "pygments_lexer": "ipython3",
   "version": "3.8.3"
  }
 },
 "nbformat": 4,
 "nbformat_minor": 4
}
